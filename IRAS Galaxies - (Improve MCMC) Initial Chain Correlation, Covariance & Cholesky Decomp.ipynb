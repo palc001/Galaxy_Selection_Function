{
 "cells": [
  {
   "cell_type": "code",
   "execution_count": 1,
   "metadata": {},
   "outputs": [
    {
     "name": "stdout",
     "output_type": "stream",
     "text": [
      "248341\n"
     ]
    }
   ],
   "source": [
    "import numpy as np\n",
    "from matplotlib import pyplot as plt\n",
    "import time\n",
    "\n",
    "data = np.load('MCchain_IC_alpha_0.30_beta_1.40_rstar_38.00_iter_1000000.npz')\n",
    "\n",
    "alphas = data['alpha_arr']\n",
    "betas = data['beta_arr']\n",
    "rstars = data['r_star_arr']\n",
    "\n",
    "burn = 1500\n",
    "alphas = alphas[burn:]\n",
    "betas = betas[burn:]\n",
    "rstars = rstars[burn:]\n",
    "\n",
    "print(len(alphas))"
   ]
  },
  {
   "cell_type": "code",
   "execution_count": 2,
   "metadata": {},
   "outputs": [],
   "source": [
    "#Auto-correlation\n",
    "\n",
    "def rho(lag, param): #autocorrelation function\n",
    "    N = len(param)\n",
    "    mean = np.mean(param)\n",
    "    numerator = np.sum((param[:(N-lag)] - mean) * (param[lag:] - mean))\n",
    "    denominator = np.sum((param - mean)**2)\n",
    "    return numerator / denominator\n",
    "\n",
    "'''Autocorrelation(lag)'''\n",
    "lag_limit = 3000\n",
    "autocoral = np.empty(lag_limit) #for alphas\n",
    "autocorbt = np.empty(lag_limit) #for betas\n",
    "autocorrs = np.empty(lag_limit) #for rstars\n",
    "for i in range(lag_limit):\n",
    "    autocoral[i] = rho(i, alphas)\n",
    "    autocorbt[i] = rho(i, betas)\n",
    "    autocorrs[i] = rho(i, rstars)"
   ]
  },
  {
   "cell_type": "code",
   "execution_count": 3,
   "metadata": {},
   "outputs": [
    {
     "data": {
      "image/png": "[encoded data removed]",
      "text/plain": [
       "<Figure size 432x288 with 1 Axes>"
      ]
     },
     "metadata": {
      "needs_background": "light"
     },
     "output_type": "display_data"
    }
   ],
   "source": [
    "#PLOT\n",
    "\n",
    "yzeros = np.zeros(lag_limit)\n",
    "ypoint1s = 0.1 * np.ones(lag_limit)\n",
    "\n",
    "plt.plot(autocoral, 'r', label = 'alpha')\n",
    "plt.plot(autocorbt, 'g', label = 'beta')\n",
    "plt.plot(autocorrs, 'y', label = 'r_star')\n",
    "plt.plot(yzeros, 'black')\n",
    "plt.plot(ypoint1s, 'b', label = '0.1')\n",
    "plt.xscale('log')\n",
    "plt.ylim(-0.4, 1)\n",
    "plt.legend()\n",
    "plt.title('Autocorrelation as a function of lag')\n",
    "plt.show()"
   ]
  },
  {
   "cell_type": "code",
   "execution_count": 4,
   "metadata": {},
   "outputs": [
    {
     "name": "stdout",
     "output_type": "stream",
     "text": [
      "434 623 712\n"
     ]
    }
   ],
   "source": [
    "#Find lag at which autocorrelation becomes < 0.1\n",
    "\n",
    "def lagfinder(autocorparam, limit):\n",
    "    for i in range(limit):\n",
    "        if autocorparam[i] <= 0.1:\n",
    "            l0 = i\n",
    "            break\n",
    "    return l0\n",
    "\n",
    "alpha_l0 = lagfinder(autocoral, lag_limit-1)\n",
    "beta_l0 = lagfinder(autocorbt, lag_limit-1)\n",
    "rstar_l0 = lagfinder(autocorrs, lag_limit-1)\n",
    "print(alpha_l0, beta_l0, rstar_l0)"
   ]
  },
  {
   "cell_type": "code",
   "execution_count": 6,
   "metadata": {},
   "outputs": [
    {
     "name": "stdout",
     "output_type": "stream",
     "text": [
      "0.03671895495857964 0.06506913390019012 0.0845974377067495\n",
      "332 332 332\n"
     ]
    }
   ],
   "source": [
    "#Get every l0-th element of all parameter arrays\n",
    "\n",
    "l0 = 750\n",
    "print(autocoral[l0], autocorbt[l0], autocorrs[l0])\n",
    "\n",
    "#size of new parameter arrays to be formed by taking every l0 sample from all samples\n",
    "n_sz = int(len(alphas)/l0)\n",
    "\n",
    "n_als, n_bts, n_rss = alphas[::l0], betas[::l0], rstars[::l0]\n",
    "print(len(n_als), len(n_bts), len(n_rss))"
   ]
  },
  {
   "cell_type": "code",
   "execution_count": 8,
   "metadata": {},
   "outputs": [
    {
     "name": "stdout",
     "output_type": "stream",
     "text": [
      "[[0.03070312 0.         0.        ]\n",
      " [0.05597883 0.11855854 0.        ]\n",
      " [4.40037282 3.90693687 1.41174337]]\n"
     ]
    }
   ],
   "source": [
    "#Covariance Matrix and Cholesky Decomposition\n",
    "\n",
    "'''def cov(p1, p2):\n",
    "    N = len(p1)\n",
    "    numerator = np.sum((p1 - np.mean(p1)) * (p2 - np.mean(p2)))\n",
    "    return numerator/(N-1)'''\n",
    "\n",
    "cov_mat = np.cov(np.array([n_als, n_bts, n_rss]))\n",
    "#cov_mat = covariance([[al-al, al-bt, al-rs],\n",
    "#                      [bt-al, bt-bt, bt-rs],\n",
    "#                      [rs-al, rs-bt, rs-rs]])\n",
    "\n",
    "L = np.linalg.cholesky(cov_mat)\n",
    "print(L)"
   ]
  },
  {
   "cell_type": "code",
   "execution_count": 10,
   "metadata": {},
   "outputs": [
    {
     "name": "stdout",
     "output_type": "stream",
     "text": [
      "Okay! Saved!\n"
     ]
    }
   ],
   "source": [
    "#Save Cholesky-decomposed matrix L\n",
    "\n",
    "np.save('Cholesky_decomp_L.npy', L)\n",
    "print('Okay! Saved!')"
   ]
  },
  {
   "cell_type": "code",
   "execution_count": null,
   "metadata": {},
   "outputs": [],
   "source": []
  }
 ],
 "metadata": {
  "kernelspec": {
   "display_name": "Python 3",
   "language": "python",
   "name": "python3"
  },
  "language_info": {
   "codemirror_mode": {
    "name": "ipython",
    "version": 3
   },
   "file_extension": ".py",
   "mimetype": "text/x-python",
   "name": "python",
   "nbconvert_exporter": "python",
   "pygments_lexer": "ipython3",
   "version": "3.6.9"
  }
 },
 "nbformat": 4,
 "nbformat_minor": 2
}
