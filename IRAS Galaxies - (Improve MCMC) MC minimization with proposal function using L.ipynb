{
 "cells": [
  {
   "cell_type": "code",
   "execution_count": 2,
   "metadata": {},
   "outputs": [
    {
     "name": "stdout",
     "output_type": "stream",
     "text": [
      "Freq: 5000000000000.0 \n",
      "r_s: 5 \n",
      "Flux Limit: 1.0791812460476249\n",
      "Luminosity cut-off (L_s): 1695173937237548.8 \n",
      "R_max: 80\n"
     ]
    }
   ],
   "source": [
    "import pandas as pd\n",
    "import numpy as np\n",
    "import random\n",
    "from math import sqrt\n",
    "from math import e\n",
    "from math import log\n",
    "import matplotlib.pyplot as plt\n",
    "import array\n",
    "import time\n",
    "\n",
    "'''IMP:\n",
    "Units: h * dist - km/s\n",
    "       h = 100 km/(s*Mpc)'''\n",
    "\n",
    "pi = np.pi\n",
    "freq = 5 * 1e12 #Hz. Freq of 60um band\n",
    "r_s = 5 #in Mpc r_s/h\n",
    "fm = np.log10(12) #log_10 of 1.2Jy in 0.1 Jy. Flux limit of the sample\n",
    "L_s = 4*pi*r_s**2 * freq * fm\n",
    "R_max = 80 #in Mpc\n",
    "print('Freq:', freq, '\\nr_s:', r_s, '\\nFlux Limit:', fm)\n",
    "print('Luminosity cut-off (L_s):', L_s, '\\nR_max:', R_max)\n",
    "\n",
    "data = pd.read_csv(\"Data/HEASARC/IRAS Galaxies_1.tsv\", delimiter = \"\\t\")"
   ]
  },
  {
   "cell_type": "code",
   "execution_count": 3,
   "metadata": {},
   "outputs": [
    {
     "name": "stdout",
     "output_type": "stream",
     "text": [
      "5667\n"
     ]
    }
   ],
   "source": [
    "'''Sorting Data to be used - Part 1'''\n",
    "\n",
    "objclass = data[\"class\"]\n",
    "objext = data[\"extend_flag\"]\n",
    "objredshift = data[\"helio_velocity\"]\n",
    "objf60qual = data[\"micron_flux_60_flag\"]\n",
    "objf12_1, objf25_1, objf100_1 = [], [], []\n",
    "objf60_1 = []\n",
    "\n",
    "#czarr_i = c * z units km/s\n",
    "czarr1, czarr = [], []\n",
    "for i in range(len(objclass)):\n",
    "    if (objclass[i] == \"GALAXY\" and objext[i] == 0 and objf60qual[i] == 2 or objf60qual[i] == 3):\n",
    "        if objredshift[i] == 0.0: continue\n",
    "        czarr1.append(float(objredshift[i]))\n",
    "        objf12_1.append(float(data[\"micron_flux_12\"][i]))\n",
    "        objf25_1.append(float(data[\"micron_flux_25\"][i]))\n",
    "        objf60_1.append(float(data[\"micron_flux_60\"][i]))\n",
    "        objf100_1.append(float(data[\"micron_flux_100\"][i]))\n",
    "\n",
    "objf12, objf25, objf100 = [], [], []\n",
    "objf60 = []\n",
    "for i in range(len(czarr1)):\n",
    "    if (float(czarr1[i]) >= 0.0 and str(czarr1[i]) != 'nan'):\n",
    "        czarr.append(czarr1[i]) #final zarr to be used\n",
    "        objf12.append(objf12_1[i])\n",
    "        objf25.append(objf25_1[i])\n",
    "        objf60.append(objf60_1[i])\n",
    "        objf100.append(objf100_1[i])\n",
    "        \n",
    "c = 299792458 #m/s Speed of light\n",
    "\n",
    "zarr = [float(1e3*x/c) for x in czarr] #redshift array\n",
    "print(len(zarr))"
   ]
  },
  {
   "cell_type": "code",
   "execution_count": 4,
   "metadata": {},
   "outputs": [
    {
     "name": "stdout",
     "output_type": "stream",
     "text": [
      "5667\n"
     ]
    }
   ],
   "source": [
    "'''Comoving distance from redshift, Chi(z)'''\n",
    "\n",
    "H0 = 100.\n",
    "OM_m, OM_r, OM_de, OM_k = 0.28, 8.24e-5, 0.72, 0\n",
    "\n",
    "def H(z):\n",
    "    Hz = H0 * (1+z) * sqrt(OM_m*(1+z) + OM_r*(1+z)**2. + OM_de/(1+z)**2. + OM_k)\n",
    "    return Hz\n",
    "\n",
    "def dist(z1_, z2_):\n",
    "    n = 1000\n",
    "    ztemp = np.empty(n+1)\n",
    "    h = (z2_ - z1_)/float(n)\n",
    "    ztemp[0] = z1_\n",
    "    f_even, f_odd = 0., 0.\n",
    "    for i in range(1, n+1):\n",
    "        ztemp[i] = z1_ + float(i) * h\n",
    "    for i in range(1, int(n/2)):\n",
    "        zz = ztemp[2*i]\n",
    "        f_even = f_even + (1. / H(zz))\n",
    "    for i in range(1, int(n/2)+1):\n",
    "        zz = ztemp[2*i-1]\n",
    "        f_odd = f_odd + (1. / H(zz))\n",
    "    fz1 = (1. / H(z1_))\n",
    "    fz2 = (1. / H(z2_))\n",
    "    integral = h/3. * c / 1e3 * (fz1 + 2.*f_even + 4.*f_odd + fz2)\n",
    "    return integral\n",
    "\n",
    "#Comoving distance array\n",
    "distarr = [float(dist(0., x)) for x in zarr] #values in Mpc\n",
    "print(len(distarr))"
   ]
  },
  {
   "cell_type": "code",
   "execution_count": 5,
   "metadata": {},
   "outputs": [
    {
     "name": "stdout",
     "output_type": "stream",
     "text": [
      "3375\n"
     ]
    }
   ],
   "source": [
    "'''Sorting Data to be used - Part 2'''\n",
    "\n",
    "#subset distances in [r_s, R_max] for use in fitting\n",
    "darr1, obj1f60 = [], []\n",
    "for i in range(len(distarr)):\n",
    "    if (distarr[i] >= r_s and distarr[i] <= R_max and objf60[i] >= fm):\n",
    "        darr1.append(distarr[i])\n",
    "        obj1f60.append(objf60[i])\n",
    "print(len(darr1))"
   ]
  },
  {
   "cell_type": "code",
   "execution_count": 6,
   "metadata": {},
   "outputs": [
    {
     "data": {
      "image/png": "[encoded data removed]",
      "text/plain": [
       "<Figure size 432x288 with 1 Axes>"
      ]
     },
     "metadata": {
      "needs_background": "light"
     },
     "output_type": "display_data"
    }
   ],
   "source": [
    "fig = plt.figure()\n",
    "ax1 = fig.add_subplot(111)\n",
    "ax1.hist(100*np.array(darr1), bins=np.logspace(np.log10(1e2),np.log10(1e5), 45), histtype = 'step')\n",
    "#ax1.plot(distvals, phivals)\n",
    "ax1.set_xscale('log')\n",
    "#ax1.set_ylim(0, 20)\n",
    "#ax1.set_xlim(0, 1000)\n",
    "plt.show()"
   ]
  },
  {
   "cell_type": "code",
   "execution_count": 7,
   "metadata": {},
   "outputs": [],
   "source": [
    "#f60 = [0.1*10**x for x in obj1f60] #in Jy.\n",
    "darr1 = np.array(darr1)\n",
    "f60 = np.array(obj1f60) #in log_10 of flux in 0.1 Jy.\n",
    "lumino = 4*pi*darr1**2 * freq * f60\n",
    "#fm = 1.2\n",
    "\n",
    "#Only for testing until we get flux limit:\n",
    "#fm = min(f60) #log_10 of 1.2Jy in 0.1 Jy. Flux limit of the sample\n",
    "#L_s = 4*np.pi*r_s**2 * freq * fm\n",
    "#--\n",
    "\n",
    "#Yet to convert to numpy arrays\n",
    "def phi(r, alpha, beta, r_star): #Galaxy Selection function\n",
    "    A = r_s**(2*alpha) * (1 + (r_s**2./r_star**2.))**beta\n",
    "    return A * r**(-2*alpha) * (1 + (r**2./r_star**2.))**-beta\n",
    "#------------------------------\n",
    "\n",
    "def PSI(L_arr, alpha, beta, r_star): #Cumulative Luminosity function\n",
    "    L_star = 4*pi*r_star**2. * freq * fm\n",
    "    C = 1 #\n",
    "    return C * (L_arr/L_star)**-alpha * (1 + L_arr/L_star)**-beta\n",
    "\n",
    "def PHI(L_arr, alpha, beta, r_star): #Luminosity function\n",
    "    L_star = 4*pi*r_star**2. * freq * fm\n",
    "    return (alpha/L_arr + beta/(L_star + L_arr)) * PSI(L_arr, alpha, beta, r_star)\n",
    "\n",
    "def probf(r_arr, L_arr, alpha, beta, r_star): #Probability function \"f(Li|ri)\"\n",
    "    size = len(r_arr)\n",
    "    Lm = np.maximum(L_s, 4*pi*r_arr**2 * freq * fm)\n",
    "    return_array = (L_arr >= Lm) * PHI(L_arr, alpha, beta, r_star) / PSI(Lm, alpha, beta, r_star)\n",
    "    return return_array\n",
    "    \n",
    "#Likelihood function\n",
    "#returns a POSITIVE value (COST that the algorithm pays at the given vales of parameters)\n",
    "def lhdfunc(params):\n",
    "    alpha, beta, r_star = params[0], params[1], params[2]\n",
    "    f = probf(darr1, lumino, alpha, beta, r_star)\n",
    "    value = np.sum(np.log(f))\n",
    "    #print('COST:', -2 * value)\n",
    "    return -2 * value"
   ]
  },
  {
   "cell_type": "code",
   "execution_count": 8,
   "metadata": {},
   "outputs": [],
   "source": [
    "#Getting L matrix\n",
    "\n",
    "L = np.load('Cholesky_decomp_L.npy')\n",
    "scale_fac = 2*0.3"
   ]
  },
  {
   "cell_type": "code",
   "execution_count": 9,
   "metadata": {},
   "outputs": [],
   "source": [
    "####---- Monte-Carlo Minimization Functions----####\n",
    "\n",
    "def mcmc_min(niter, ini_vals):\n",
    "    #niter = 1e6\n",
    "    i, k = 0, 0\n",
    "    \n",
    "    alpha, beta, r_star = ini_vals[0], ini_vals[1], ini_vals[2] #initial guess\n",
    "    \n",
    "    acc_alphas, acc_betas, acc_r_stars = np.empty(0), np.empty(0), np.empty(0) #arrays to store all accepted parameter values\n",
    "    costarr = np.empty(0) #array to store cost (from likelihood func) at all accepted values\n",
    "    \n",
    "    f_old = lhdfunc(array.array('f', [alpha, beta, r_star])) #OLD COST (from likelihood func)\n",
    "    \n",
    "    while i < int(niter):\n",
    "        eta = np.random.normal(size = (3, 1))\n",
    "        inc = scale_fac * np.dot(L, eta)\n",
    "        inc_alpha, inc_beta, inc_r_star = inc[0, 0], inc[1, 0], inc[2, 0] #increments to parameters\n",
    "        #increments based on new proposal function:\n",
    "        #params[i+1] = params[i] + scale_fac * matmul(L x eta)\n",
    "        #where, eta is a vector of Gaussian variates\n",
    "    \n",
    "        guess = array.array('f', [alpha + inc_alpha, beta + inc_beta, r_star + inc_r_star]) #new parameters\n",
    "        f_new = lhdfunc(guess) #NEW COST (from likelihood func)\n",
    "    \n",
    "        #print('f_old =', f_old, 'f_new =', f_new)\n",
    "        #f_ratio = e**(-f_new) / e**(-f_old) #\"Gives wrong value due to large power of e\"\n",
    "        #print('f_ratio =', f_ratio)\n",
    "    \n",
    "        differ_f = f_new - f_old #Using difference method as above commented code doesn't work\n",
    "    \n",
    "        #if (f_ratio >= 1): #Accept if f_ratio >= 1\n",
    "        if differ_f <= 0: #\"OR\" Accept if differ_f <= 0\n",
    "            alpha, beta, r_star = alpha + inc_alpha, \\\n",
    "            beta + inc_beta, r_star + inc_r_star #Accept the parameters\n",
    "            acc_alphas = np.insert(acc_alphas, k, alpha)\n",
    "            acc_betas = np.insert(acc_betas, k, beta)\n",
    "            acc_r_stars = np.insert(acc_r_stars, k, r_star)\n",
    "            costarr = np.insert(costarr, k, f_new)\n",
    "            f_old = f_new #Set new COST as old COST for next iteration\n",
    "            k += 1\n",
    "    \n",
    "        else: #Accept if uniform random number(u) <= f_ratio\n",
    "            #\"OR\" Accept if u <= e**(-differ_f)\n",
    "            u = random.uniform(0, 1)\n",
    "            #if (u <= f_ratio):\n",
    "            if (u <= e**(-differ_f)):\n",
    "                alpha, beta, r_star = alpha + inc_alpha, beta + inc_beta, r_star + inc_r_star #Accept the parameters\n",
    "                acc_alphas = np.insert(acc_alphas, k, alpha)\n",
    "                acc_betas = np.insert(acc_betas, k, beta)\n",
    "                acc_r_stars = np.insert(acc_r_stars, k, r_star)\n",
    "                costarr = np.insert(costarr, k, f_new)\n",
    "                f_old = f_new #Set new COST as old COST for next iteration\n",
    "                k += 1\n",
    "    \n",
    "        i += 1\n",
    "        if (i % 2e4 == 0): print('Iter: %d K, \\tcurrent acc_ratio = %.3f' % (i/1e3, k/i))\n",
    "    \n",
    "    accratio = k/niter\n",
    "    print(\"Number of accepted values: %d out of %d\" % (k, niter))\n",
    "    print(\"Acceptance ratio is %.3f\" % accratio)\n",
    "    \n",
    "    return [k, acc_alphas, acc_betas, acc_r_stars, costarr]\n",
    "\n",
    "def plot_min(params, se, ini_vals, mean, std): #se = [start, end]\n",
    "    costarr, acc_alphas, acc_betas, acc_r_stars = params[0], params[1], params[2], params[3]\n",
    "    \n",
    "    figure = plt.figure(figsize = (12, 7))\n",
    "    \n",
    "    ax1 = figure.add_subplot(221)\n",
    "    ax1.plot(costarr[se[0]:se[1]])\n",
    "    ax1.set_title('COST')\n",
    "    \n",
    "    ax2 = figure.add_subplot(222)\n",
    "    ax2.plot(acc_alphas[se[0]:se[1]])\n",
    "    ax2.set_title('alpha')\n",
    "    \n",
    "    ax3 = figure.add_subplot(223)\n",
    "    ax3.plot(acc_betas[se[0]:se[1]])\n",
    "    ax3.set_title('beta')\n",
    "    \n",
    "    ax4 = figure.add_subplot(224)\n",
    "    ax4.plot(acc_r_stars[se[0]:se[1]])\n",
    "    ax4.set_title('r_star')\n",
    "    \n",
    "    figure.suptitle('Initial parameter values: alpha = %.2f, beta = %.2f, rstar = %.2f\\\n",
    "    \\nBest-fit values: alpha = %.3f +- %.3f, beta = %.3f +- %.3f, rstar = %.3f +- %.3f' \\\n",
    "                    % (ini_vals[0], ini_vals[1], ini_vals[2], mean[0], std[0], \\\n",
    "                       mean[1], std[1], mean[2], std[2]), fontsize = 14)\n",
    "    \n",
    "    plt.savefig('IC_alpha_%.2f_beta_%.2f_rstar_%.2f.png' % (ini_vals[0], ini_vals[1], ini_vals[2]))"
   ]
  },
  {
   "cell_type": "code",
   "execution_count": 12,
   "metadata": {},
   "outputs": [
    {
     "name": "stdout",
     "output_type": "stream",
     "text": [
      "Starting Chain 1\n",
      "IC: alpha = 0.20, beta = 1.20, r_star = 30.00\n",
      "Iter: 20 K, \tcurrent acc_ratio = 0.621\n",
      "Iter: 40 K, \tcurrent acc_ratio = 0.622\n",
      "Iter: 60 K, \tcurrent acc_ratio = 0.624\n",
      "Number of accepted values: 37457 out of 60000\n",
      "Acceptance ratio is 0.624\n",
      "\n",
      "Mean +- sigma parameter values for Chain 1:\n",
      "alpha \t= 0.4653 +- 0.0288\n",
      "beta \t= 2.0584 +- 0.1340\n",
      "r_star \t= 71.8736 +- 5.9203\n",
      "\n",
      "\n",
      "Starting Chain 2\n",
      "IC: alpha = 0.25, beta = 1.36, r_star = 38.00\n",
      "Iter: 20 K, \tcurrent acc_ratio = 0.626\n",
      "Iter: 40 K, \tcurrent acc_ratio = 0.628\n",
      "Iter: 60 K, \tcurrent acc_ratio = 0.627\n",
      "Number of accepted values: 37609 out of 60000\n",
      "Acceptance ratio is 0.627\n",
      "\n",
      "Mean +- sigma parameter values for Chain 2:\n",
      "alpha \t= 0.4639 +- 0.0282\n",
      "beta \t= 2.0541 +- 0.1314\n",
      "r_star \t= 71.5342 +- 5.7093\n",
      "\n",
      "\n",
      "Starting Chain 3\n",
      "IC: alpha = 0.30, beta = 1.52, r_star = 46.00\n",
      "Iter: 20 K, \tcurrent acc_ratio = 0.630\n",
      "Iter: 40 K, \tcurrent acc_ratio = 0.629\n",
      "Iter: 60 K, \tcurrent acc_ratio = 0.626\n",
      "Number of accepted values: 37549 out of 60000\n",
      "Acceptance ratio is 0.626\n",
      "\n",
      "Mean +- sigma parameter values for Chain 3:\n",
      "alpha \t= 0.4659 +- 0.0280\n",
      "beta \t= 2.0578 +- 0.1300\n",
      "r_star \t= 71.8915 +- 5.7588\n",
      "\n",
      "\n",
      "Starting Chain 4\n",
      "IC: alpha = 0.35, beta = 1.68, r_star = 54.00\n",
      "Iter: 20 K, \tcurrent acc_ratio = 0.629\n",
      "Iter: 40 K, \tcurrent acc_ratio = 0.630\n",
      "Iter: 60 K, \tcurrent acc_ratio = 0.629\n",
      "Number of accepted values: 37738 out of 60000\n",
      "Acceptance ratio is 0.629\n",
      "\n",
      "Mean +- sigma parameter values for Chain 4:\n",
      "alpha \t= 0.4652 +- 0.0286\n",
      "beta \t= 2.0582 +- 0.1328\n",
      "r_star \t= 71.8467 +- 5.8433\n",
      "\n",
      "\n",
      "Starting Chain 5\n",
      "IC: alpha = 0.40, beta = 1.84, r_star = 62.00\n",
      "Iter: 20 K, \tcurrent acc_ratio = 0.630\n",
      "Iter: 40 K, \tcurrent acc_ratio = 0.629\n",
      "Iter: 60 K, \tcurrent acc_ratio = 0.625\n",
      "Number of accepted values: 37504 out of 60000\n",
      "Acceptance ratio is 0.625\n",
      "\n",
      "Mean +- sigma parameter values for Chain 5:\n",
      "alpha \t= 0.4650 +- 0.0279\n",
      "beta \t= 2.0567 +- 0.1315\n",
      "r_star \t= 71.7337 +- 5.7589\n",
      "\n",
      "\n",
      "Starting Chain 6\n",
      "IC: alpha = 0.45, beta = 2.00, r_star = 70.00\n",
      "Iter: 20 K, \tcurrent acc_ratio = 0.624\n",
      "Iter: 40 K, \tcurrent acc_ratio = 0.625\n",
      "Iter: 60 K, \tcurrent acc_ratio = 0.625\n",
      "Number of accepted values: 37499 out of 60000\n",
      "Acceptance ratio is 0.625\n",
      "\n",
      "Mean +- sigma parameter values for Chain 6:\n",
      "alpha \t= 0.4642 +- 0.0287\n",
      "beta \t= 2.0510 +- 0.1315\n",
      "r_star \t= 71.4880 +- 5.7870\n",
      "\n",
      "\n",
      "Starting Chain 7\n",
      "IC: alpha = 0.50, beta = 2.16, r_star = 78.00\n",
      "Iter: 20 K, \tcurrent acc_ratio = 0.630\n",
      "Iter: 40 K, \tcurrent acc_ratio = 0.629\n",
      "Iter: 60 K, \tcurrent acc_ratio = 0.629\n",
      "Number of accepted values: 37739 out of 60000\n",
      "Acceptance ratio is 0.629\n",
      "\n",
      "Mean +- sigma parameter values for Chain 7:\n",
      "alpha \t= 0.4648 +- 0.0282\n",
      "beta \t= 2.0565 +- 0.1329\n",
      "r_star \t= 71.7491 +- 5.8591\n",
      "\n",
      "\n",
      "Starting Chain 8\n",
      "IC: alpha = 0.55, beta = 2.32, r_star = 86.00\n",
      "Iter: 20 K, \tcurrent acc_ratio = 0.625\n",
      "Iter: 40 K, \tcurrent acc_ratio = 0.627\n",
      "Iter: 60 K, \tcurrent acc_ratio = 0.627\n",
      "Number of accepted values: 37600 out of 60000\n",
      "Acceptance ratio is 0.627\n",
      "\n",
      "Mean +- sigma parameter values for Chain 8:\n",
      "alpha \t= 0.4642 +- 0.0280\n",
      "beta \t= 2.0567 +- 0.1307\n",
      "r_star \t= 71.6896 +- 5.7055\n",
      "\n",
      "\n",
      "Starting Chain 9\n",
      "IC: alpha = 0.60, beta = 2.48, r_star = 94.00\n",
      "Iter: 20 K, \tcurrent acc_ratio = 0.628\n",
      "Iter: 40 K, \tcurrent acc_ratio = 0.627\n",
      "Iter: 60 K, \tcurrent acc_ratio = 0.627\n",
      "Number of accepted values: 37601 out of 60000\n",
      "Acceptance ratio is 0.627\n",
      "\n",
      "Mean +- sigma parameter values for Chain 9:\n",
      "alpha \t= 0.4647 +- 0.0288\n",
      "beta \t= 2.0565 +- 0.1309\n",
      "r_star \t= 71.7277 +- 5.8049\n",
      "\n",
      "\n",
      "Starting Chain 10\n",
      "IC: alpha = 0.65, beta = 2.64, r_star = 102.00\n",
      "Iter: 20 K, \tcurrent acc_ratio = 0.624\n",
      "Iter: 40 K, \tcurrent acc_ratio = 0.626\n",
      "Iter: 60 K, \tcurrent acc_ratio = 0.625\n",
      "Number of accepted values: 37521 out of 60000\n",
      "Acceptance ratio is 0.625\n",
      "\n",
      "Mean +- sigma parameter values for Chain 10:\n",
      "alpha \t= 0.4640 +- 0.0284\n",
      "beta \t= 2.0531 +- 0.1317\n",
      "r_star \t= 71.5419 +- 5.7995\n",
      "\n",
      "\n",
      "10 chain(s) done successfully!\n"
     ]
    }
   ],
   "source": [
    "#Run MCMC Minimization for N_chain chains\n",
    "\n",
    "N_chain = 10\n",
    "niter = int(6e4)\n",
    "\n",
    "'''actual values are:\n",
    "alpha = 0.527 +- 0.034, beta = 1.78 +- 0.078, r_star = 44.00 +- 2.30'''\n",
    "\n",
    "'''my values for Initial Chain:\n",
    "alpha = 0.4640 +- 0.0294, beta = 2.0477 +- 0.1321, r_star = 71.3751 +- 5.8127'''\n",
    "\n",
    "#Initial values within 10 sigma of Initial Chain\n",
    "initialal = np.linspace(0.2, 0.7, N_chain+1)\n",
    "initialbt = np.linspace(1.2, 2.8, N_chain+1)\n",
    "initialrs = np.linspace(30, 110, N_chain+1)\n",
    "\n",
    "#Arrays to store accepted parameter values\n",
    "alpha2Darr, beta2Darr, rstar2Darr, cost2Darr = np.zeros([N_chain, niter]), \\\n",
    "np.zeros([N_chain, niter]), np.zeros([N_chain, niter]), np.zeros([N_chain, niter])\n",
    "#different chains are stored in rows\n",
    "#1st column in each row denotes the number of accepted values in the chain\n",
    "#2nd column onwards, accepted values in that chain are stored.\n",
    "\n",
    "#Mean and std for each chain.\n",
    "u_al, u_bt, u_rs = np.zeros(N_chain), np.zeros(N_chain), np.zeros(N_chain)\n",
    "std_al, std_bt, std_rs = np.zeros(N_chain), np.zeros(N_chain), np.zeros(N_chain)\n",
    "\n",
    "np.random.seed(0)\n",
    "\n",
    "for i in range(N_chain):\n",
    "    print('Starting Chain', i+1)\n",
    "    print('IC: alpha = %.2f, beta = %.2f, r_star = %.2f' % (initialal[i], initialbt[i], initialrs[i]))\n",
    "    \n",
    "    ini_vals = [initialal[i], initialbt[i], initialrs[i]] #initial values\n",
    "    \n",
    "    return_arr = mcmc_min(niter, ini_vals) #MCMC minimization\n",
    "    \n",
    "    #Store accepted parameter values\n",
    "    k, alphas, betas, rstars, costarr = return_arr[0], return_arr[1], return_arr[2], return_arr[3], return_arr[4]\n",
    "    alpha2Darr[i, 0], beta2Darr[i, 0], rstar2Darr[i, 0], cost2Darr[i, 0] = k, k, k, k\n",
    "    alpha2Darr[i, 1:k+1], beta2Darr[i, 1:k+1], rstar2Darr[i, 1:k+1] = alphas, betas, rstars\n",
    "    cost2Darr[i, 1:k+1] = costarr\n",
    "    \n",
    "    burn_end = 1500\n",
    "    \n",
    "    #Calculate, store mean and std\n",
    "    u_al[i], u_bt[i], u_rs[i] = np.mean(alphas[burn_end:]), np.mean(betas[burn_end:]), np.mean(rstars[burn_end:])\n",
    "    std_al[i], std_bt[i], std_rs[i] = np.std(alphas[burn_end:]), np.std(betas[burn_end:]), np.std(rstars[burn_end:])\n",
    "    u_params, std_params = [u_al[i], u_bt[i], u_rs[i]], [std_al[i], std_bt[i], std_rs[i]] #bundle mean, std for further use\n",
    "    \n",
    "    #plot_params = [costarr, alphas, betas, rstars]\n",
    "    #plot_min(plot_params, [0, k], ini_vals, u_params, std_params) #Save plots\n",
    "    \n",
    "    print('\\nMean +- sigma parameter values for Chain %d:' % (i+1))\n",
    "    print('alpha \\t= %.4f +- %.4f' % (u_al[i], std_al[i]))\n",
    "    print('beta \\t= %.4f +- %.4f' % (u_bt[i], std_bt[i]))\n",
    "    print('r_star \\t= %.4f +- %.4f' % (u_rs[i], std_rs[i]))\n",
    "    \n",
    "    #temp = input('%d chain(s) done! Plot saved.\\nPress <ENTER> to proceed.' % (i+1))\n",
    "    print('\\n')\n",
    "\n",
    "print(N_chain, 'chain(s) done successfully!')"
   ]
  },
  {
   "cell_type": "code",
   "execution_count": 14,
   "metadata": {},
   "outputs": [
    {
     "name": "stdout",
     "output_type": "stream",
     "text": [
      "alpha \t= 0.4648 +- 0.0284\n",
      "beta \t= 2.0560 +- 0.1317\n",
      "r_star \t= 71.7144 +- 5.7952\n"
     ]
    }
   ],
   "source": [
    "#Overall mean and std\n",
    "\n",
    "al_list, bt_list, rs_list = [], [], []\n",
    "num_all = 0\n",
    "burn_end = 2000\n",
    "for i in range(N_chain):\n",
    "    k = int(alpha2Darr[i, 0])\n",
    "    al_list.extend(alpha2Darr[i, burn_end:k+1])\n",
    "    bt_list.extend(beta2Darr[i, burn_end:k+1])\n",
    "    rs_list.extend(rstar2Darr[i, burn_end:k+1])\n",
    "mean_alpha, std_alpha = np.mean(al_list), np.std(al_list)\n",
    "mean_beta, std_beta = np.mean(bt_list), np.std(bt_list)\n",
    "mean_r_star, std_r_star = np.mean(rs_list), np.std(rs_list)\n",
    "print('alpha \\t= %.4f +- %.4f' % (mean_alpha, std_alpha))\n",
    "print('beta \\t= %.4f +- %.4f' % (mean_beta, std_beta))\n",
    "print('r_star \\t= %.4f +- %.4f' % (mean_r_star, std_r_star))"
   ]
  },
  {
   "cell_type": "code",
   "execution_count": 17,
   "metadata": {},
   "outputs": [
    {
     "name": "stdout",
     "output_type": "stream",
     "text": [
      "Okay! Saved!\n"
     ]
    }
   ],
   "source": [
    "#Save accepted parameter lists\n",
    "\n",
    "np.savez('MC_%dchains_iter_%deach.npz' % (N_chain, niter),\n",
    "         burn = burn_end,\n",
    "         ini_alpha = initialal,\n",
    "         ini_beta = initialbt,\n",
    "         ini_r_star = initialrs,\n",
    "         mean_alpha = u_al,\n",
    "         std_alpha = std_al,\n",
    "         mean_beta = u_bt,\n",
    "         std_beta = std_bt,\n",
    "         mean_r_star = u_rs,\n",
    "         std_r_star = std_rs,\n",
    "         alpha_arr = alpha2Darr,\n",
    "         beta_arr = beta2Darr,\n",
    "         r_star_arr = rstar2Darr,\n",
    "         cost_arr = cost2Darr\n",
    "        )\n",
    "print('Okay! Saved!')"
   ]
  },
  {
   "cell_type": "code",
   "execution_count": 19,
   "metadata": {},
   "outputs": [
    {
     "data": {
      "image/png": "[encoded data removed]",
      "text/plain": [
       "<Figure size 432x288 with 1 Axes>"
      ]
     },
     "metadata": {
      "needs_background": "light"
     },
     "output_type": "display_data"
    }
   ],
   "source": [
    "#Plot Selection Function\n",
    "\n",
    "#distvals = np.logspace(np.log10(1e2),np.log10(1e5), 45)\n",
    "distvals = np.arange(5, 100, 1)\n",
    "distvalsplot = np.arange(0, 10000, 100)\n",
    "\n",
    "alpha_val, beta_val, r_star_val = 0.527, 1.78, 44\n",
    "phivals_paper = [phi(x, alpha_val, beta_val, r_star_val) for x in distvals]\n",
    "phivals_paper = np.insert(phivals_paper, 0, [1, 1, 1, 1, 1])\n",
    "\n",
    "alpha_val, beta_val, r_star_val = mean_alpha, mean_beta, mean_r_star\n",
    "phivals_mine = [phi(x, alpha_val, beta_val, r_star_val) for x in distvals]\n",
    "phivals_mine = np.insert(phivals_mine, 0, [1, 1, 1, 1, 1])\n",
    "\n",
    "plt.plot(distvalsplot, phivals_paper, label = 'paper')\n",
    "plt.plot(distvalsplot, phivals_mine, label = 'ours')\n",
    "\n",
    "#plt.yscale('log')\n",
    "plt.legend()\n",
    "plt.title('Selection function')\n",
    "plt.xlabel('Distance (km/s)')\n",
    "plt.ylabel('phi(r)')\n",
    "plt.savefig('selection_fn_paper+ours')\n",
    "plt.show()"
   ]
  },
  {
   "cell_type": "code",
   "execution_count": 2,
   "metadata": {},
   "outputs": [
    {
     "ename": "NameError",
     "evalue": "name 'np' is not defined",
     "output_type": "error",
     "traceback": [
      "\u001b[0;31m---------------------------------------------------------------------------\u001b[0m",
      "\u001b[0;31mNameError\u001b[0m                                 Traceback (most recent call last)",
      "\u001b[0;32m<ipython-input-2-0adfe394d296>\u001b[0m in \u001b[0;36m<module>\u001b[0;34m\u001b[0m\n\u001b[0;32m----> 1\u001b[0;31m \u001b[0mparameterdata\u001b[0m \u001b[0;34m=\u001b[0m \u001b[0mnp\u001b[0m\u001b[0;34m.\u001b[0m\u001b[0mload\u001b[0m\u001b[0;34m(\u001b[0m\u001b[0;34m'10 Chain Results\\MC_%dchains_iter_%deach.npz'\u001b[0m\u001b[0;34m)\u001b[0m\u001b[0;34m\u001b[0m\u001b[0;34m\u001b[0m\u001b[0m\n\u001b[0m\u001b[1;32m      2\u001b[0m \u001b[0;34m\u001b[0m\u001b[0m\n\u001b[1;32m      3\u001b[0m \u001b[0;31m#Get histogram\u001b[0m\u001b[0;34m\u001b[0m\u001b[0;34m\u001b[0m\u001b[0;34m\u001b[0m\u001b[0m\n\u001b[1;32m      4\u001b[0m \u001b[0;32mdef\u001b[0m \u001b[0mhistogram\u001b[0m\u001b[0;34m(\u001b[0m\u001b[0mparam\u001b[0m\u001b[0;34m,\u001b[0m \u001b[0mchain_num\u001b[0m\u001b[0;34m,\u001b[0m \u001b[0mnbins\u001b[0m\u001b[0;34m=\u001b[0m\u001b[0;36m11\u001b[0m\u001b[0;34m)\u001b[0m\u001b[0;34m:\u001b[0m \u001b[0;31m#param is 2D array\u001b[0m\u001b[0;34m\u001b[0m\u001b[0;34m\u001b[0m\u001b[0m\n\u001b[1;32m      5\u001b[0m     \u001b[0mburn_end\u001b[0m \u001b[0;34m=\u001b[0m \u001b[0;36m1500\u001b[0m\u001b[0;34m\u001b[0m\u001b[0;34m\u001b[0m\u001b[0m\n",
      "\u001b[0;31mNameError\u001b[0m: name 'np' is not defined"
     ]
    }
   ],
   "source": [
    "#Get histogram\n",
    "def histogram(param, chain_num, nbins=11): #param is 2D array\n",
    "    burn_end = 1500\n",
    "    nvals = int(param[chain_num-1, 0])\n",
    "    parr = param[chain_num-1, 1+burn_end:nvals+1]\n",
    "    \n",
    "    tot_counts = nvals - burn_end\n",
    "    counts, bins = np.histogram(parr, bins = nbins)\n",
    "    plotcounts = np.insert(counts, -1, counts[-1])\n",
    "    \n",
    "    binwidth = bins[1] - bins[0]\n",
    "    #plt.hist(parr, bins = 25)\n",
    "    plt.step(bins, plotcounts, where = 'post')\n",
    "    plt.xlim(bins[0]-binwidth, bins[-1]+binwidth)\n",
    "    plt.show()\n",
    "    \n",
    "    return [bins, counts, tot_counts]\n",
    "\n",
    "#Plot Selection function\n",
    "def plot_phi(alpha, beta, r_star):\n",
    "    distvals = np.arange(5, 100, 1)\n",
    "    distvalsplot = np.arange(0, 10000, 100)\n",
    "    \n",
    "    phivals = [phi(x, alpha, beta, r_star) for x in distvals]\n",
    "    phivals = np.insert(phivals, 0, [1, 1, 1, 1, 1])\n",
    "    \n",
    "    plt.plot(distvalsplot, phivals, label = \\\n",
    "             'alpha=%.2f, beta=%.2f, r_star=%.2f' % (alpha, beta, r_star))\n",
    "    #plt.yscale('log')\n",
    "    plt.legend()\n",
    "    plt.title('Selection function')\n",
    "    plt.xlabel('Distance (km/s)')\n",
    "    plt.ylabel('phi(r)')\n",
    "    #plt.savefig('zzz.png')\n",
    "    plt.show()\n",
    "\n",
    "#Get median value and 1 sigma errorbars\n",
    "def find_errorbars(bins, counts, tot_counts):\n",
    "    if int(np.sum(counts)) != tot_counts: print('Oopsieee!!!')\n",
    "    sigmacount = 0.341 * tot_counts\n",
    "    medianbin = np.argmax(counts)\n",
    "    medianval = (bins[medianbin] + bins[medianbin+1])/2\n",
    "    \n",
    "    #upper-errorbar\n",
    "    sumcounts = counts[medianbin]/2\n",
    "    for i in range(medianbin+1, len(counts)):\n",
    "        sumcounts += counts[i]\n",
    "        if (sumcounts >= sigmacount):\n",
    "            upsigmaval = (bins[i] + bins[i+1])/2\n",
    "            break\n",
    "    uperror = upsigmaval - medianval\n",
    "    \n",
    "    #lower-errorbar\n",
    "    sumcounts = counts[medianbin]/2\n",
    "    for i in range(medianbin-1, 0, -1):\n",
    "        sumcounts += counts[i]\n",
    "        if (sumcounts >= sigmacount):\n",
    "            losigmaval = (bins[i] + bins[i+1])/2\n",
    "            break\n",
    "    loerror = losigmaval - medianval\n",
    "    \n",
    "    return [medianval, uperror, loerror]\n",
    "\n",
    "a = histogram(alpha2Darr, 5, 21)\n",
    "print(a)\n",
    "find_errorbars(a[0], a[1], a[2])"
   ]
  },
  {
   "cell_type": "code",
   "execution_count": 290,
   "metadata": {},
   "outputs": [
    {
     "data": {
      "image/png": "[encoded data removed]",
      "text/plain": [
       "<Figure size 432x288 with 1 Axes>"
      ]
     },
     "metadata": {
      "needs_background": "light"
     },
     "output_type": "display_data"
    }
   ],
   "source": [
    "import numpy as np\n",
    "import matplotlib.pyplot as plt\n",
    "import scipy.optimize as so\n",
    "import scipy.ndimage\n",
    "\n",
    "def find_confidence_interval(x, pdf, confidence_level):\n",
    "    return pdf[pdf > x].sum() - confidence_level\n",
    "\n",
    "def density_contour(xdata, ydata, nbins_x, nbins_y, ax=None, **contour_kwargs):\n",
    "    \"\"\" Create a density contour plot.\n",
    "    Parameters\n",
    "    ----------\n",
    "    xdata : numpy.ndarray\n",
    "    ydata : numpy.ndarray\n",
    "    nbins_x : int\n",
    "        Number of bins along x dimension\n",
    "    nbins_y : int\n",
    "        Number of bins along y dimension\n",
    "    ax : matplotlib.Axes (optional)\n",
    "        If supplied, plot the contour to this axis. Otherwise, open a new figure\n",
    "    contour_kwargs : dict\n",
    "        kwargs to be passed to pyplot.contour()\n",
    "    \"\"\"\n",
    "\n",
    "    H, xedges, yedges = np.histogram2d(xdata, ydata, bins=(nbins_x,nbins_y), normed=True)\n",
    "    x_bin_sizes = (xedges[1:] - xedges[:-1]).reshape((1,nbins_x))\n",
    "    y_bin_sizes = (yedges[1:] - yedges[:-1]).reshape((nbins_y,1))\n",
    "\n",
    "    pdf = (H*(x_bin_sizes*y_bin_sizes))\n",
    "\n",
    "    one_sigma = so.brentq(find_confidence_interval, 0., 1., args=(pdf, 0.68))\n",
    "    two_sigma = so.brentq(find_confidence_interval, 0., 1., args=(pdf, 0.95))\n",
    "    three_sigma = so.brentq(find_confidence_interval, 0., 1., args=(pdf, 0.99))\n",
    "    levels = [three_sigma, two_sigma, one_sigma]\n",
    "\n",
    "    X, Y = 0.5*(xedges[1:]+xedges[:-1]), 0.5*(yedges[1:]+yedges[:-1])\n",
    "    Z = pdf.T\n",
    "\n",
    "    if ax == None:\n",
    "        contour = plt.contour(X, Y, Z, levels=levels, origin=\"lower\", **contour_kwargs)\n",
    "    else:\n",
    "        contour = ax.contour(X, Y, Z, levels=levels, origin=\"lower\", **contour_kwargs)\n",
    "\n",
    "    return contour\n",
    "\n",
    "def test_density_contour():\n",
    "    al_arr = alpha2Darr[0, 1501:int(alpha2Darr[0, 0])+1]\n",
    "    bt_arr = beta2Darr[0, 1501:int(beta2Darr[0, 0])+1]\n",
    "    al_arr = scipy.ndimage.zoom(al_arr, 1)\n",
    "    bt_arr = scipy.ndimage.zoom(bt_arr, 1)\n",
    "    density_contour(al_arr, bt_arr, 100, 100)\n",
    "    plt.show()\n",
    "\n",
    "test_density_contour()"
   ]
  },
  {
   "cell_type": "markdown",
   "metadata": {},
   "source": [
    "# REDUNDANT CODES START HERE!!!!!"
   ]
  },
  {
   "cell_type": "code",
   "execution_count": 29,
   "metadata": {},
   "outputs": [
    {
     "ename": "NameError",
     "evalue": "name 'acc_alphas' is not defined",
     "output_type": "error",
     "traceback": [
      "\u001b[0;31m---------------------------------------------------------------------------\u001b[0m",
      "\u001b[0;31mNameError\u001b[0m                                 Traceback (most recent call last)",
      "\u001b[0;32m<ipython-input-29-13bc8c048128>\u001b[0m in \u001b[0;36m<module>\u001b[0;34m\u001b[0m\n\u001b[1;32m      2\u001b[0m \u001b[0;34m\u001b[0m\u001b[0m\n\u001b[1;32m      3\u001b[0m \u001b[0mburn_end\u001b[0m \u001b[0;34m=\u001b[0m \u001b[0;36m1500\u001b[0m\u001b[0;34m\u001b[0m\u001b[0;34m\u001b[0m\u001b[0m\n\u001b[0;32m----> 4\u001b[0;31m \u001b[0mmean_alpha\u001b[0m\u001b[0;34m,\u001b[0m \u001b[0mstd_alpha\u001b[0m \u001b[0;34m=\u001b[0m \u001b[0mnp\u001b[0m\u001b[0;34m.\u001b[0m\u001b[0mmean\u001b[0m\u001b[0;34m(\u001b[0m\u001b[0macc_alphas\u001b[0m\u001b[0;34m[\u001b[0m\u001b[0mburn_end\u001b[0m\u001b[0;34m:\u001b[0m\u001b[0mlimit\u001b[0m\u001b[0;34m]\u001b[0m\u001b[0;34m)\u001b[0m\u001b[0;34m,\u001b[0m \u001b[0mnp\u001b[0m\u001b[0;34m.\u001b[0m\u001b[0mstd\u001b[0m\u001b[0;34m(\u001b[0m\u001b[0macc_alphas\u001b[0m\u001b[0;34m[\u001b[0m\u001b[0mburn_end\u001b[0m\u001b[0;34m:\u001b[0m\u001b[0mlimit\u001b[0m\u001b[0;34m]\u001b[0m\u001b[0;34m)\u001b[0m\u001b[0;34m\u001b[0m\u001b[0;34m\u001b[0m\u001b[0m\n\u001b[0m\u001b[1;32m      5\u001b[0m \u001b[0mmean_beta\u001b[0m\u001b[0;34m,\u001b[0m \u001b[0mstd_beta\u001b[0m \u001b[0;34m=\u001b[0m \u001b[0mnp\u001b[0m\u001b[0;34m.\u001b[0m\u001b[0mmean\u001b[0m\u001b[0;34m(\u001b[0m\u001b[0macc_betas\u001b[0m\u001b[0;34m[\u001b[0m\u001b[0mburn_end\u001b[0m\u001b[0;34m:\u001b[0m\u001b[0mlimit\u001b[0m\u001b[0;34m]\u001b[0m\u001b[0;34m)\u001b[0m\u001b[0;34m,\u001b[0m \u001b[0mnp\u001b[0m\u001b[0;34m.\u001b[0m\u001b[0mstd\u001b[0m\u001b[0;34m(\u001b[0m\u001b[0macc_betas\u001b[0m\u001b[0;34m[\u001b[0m\u001b[0mburn_end\u001b[0m\u001b[0;34m:\u001b[0m\u001b[0mlimit\u001b[0m\u001b[0;34m]\u001b[0m\u001b[0;34m)\u001b[0m\u001b[0;34m\u001b[0m\u001b[0;34m\u001b[0m\u001b[0m\n\u001b[1;32m      6\u001b[0m \u001b[0mmean_r_star\u001b[0m\u001b[0;34m,\u001b[0m \u001b[0mstd_r_star\u001b[0m \u001b[0;34m=\u001b[0m \u001b[0mnp\u001b[0m\u001b[0;34m.\u001b[0m\u001b[0mmean\u001b[0m\u001b[0;34m(\u001b[0m\u001b[0macc_r_stars\u001b[0m\u001b[0;34m[\u001b[0m\u001b[0mburn_end\u001b[0m\u001b[0;34m:\u001b[0m\u001b[0mlimit\u001b[0m\u001b[0;34m]\u001b[0m\u001b[0;34m)\u001b[0m\u001b[0;34m,\u001b[0m \u001b[0mnp\u001b[0m\u001b[0;34m.\u001b[0m\u001b[0mstd\u001b[0m\u001b[0;34m(\u001b[0m\u001b[0macc_r_stars\u001b[0m\u001b[0;34m[\u001b[0m\u001b[0mburn_end\u001b[0m\u001b[0;34m:\u001b[0m\u001b[0mlimit\u001b[0m\u001b[0;34m]\u001b[0m\u001b[0;34m)\u001b[0m\u001b[0;34m\u001b[0m\u001b[0;34m\u001b[0m\u001b[0m\n",
      "\u001b[0;31mNameError\u001b[0m: name 'acc_alphas' is not defined"
     ]
    }
   ],
   "source": [
    "#Mean and Standard-deviation of Accepted Parameter Values\n",
    "\n",
    "burn_end = 1500\n",
    "mean_alpha, std_alpha = np.mean(acc_alphas[burn_end:limit]), np.std(acc_alphas[burn_end:limit])\n",
    "mean_beta, std_beta = np.mean(acc_betas[burn_end:limit]), np.std(acc_betas[burn_end:limit])\n",
    "mean_r_star, std_r_star = np.mean(acc_r_stars[burn_end:limit]), np.std(acc_r_stars[burn_end:limit])\n",
    "print('alpha \\t= %.4f +- %.4f' % (mean_alpha, std_alpha))\n",
    "print('beta \\t= %.4f +- %.4f' % (mean_beta, std_beta))\n",
    "print('r_star \\t= %.4f +- %.4f' % (mean_r_star, std_r_star))"
   ]
  },
  {
   "cell_type": "code",
   "execution_count": 98,
   "metadata": {},
   "outputs": [
    {
     "data": {
      "text/plain": [
       "(0, 0.01)"
      ]
     },
     "execution_count": 98,
     "metadata": {},
     "output_type": "execute_result"
    },
    {
     "data": {
      "image/png": "[encoded data removed]",
      "text/plain": [
       "<Figure size 432x288 with 1 Axes>"
      ]
     },
     "metadata": {
      "needs_background": "light"
     },
     "output_type": "display_data"
    }
   ],
   "source": [
    "distvals = np.logspace(np.log10(1e2),np.log10(1e5), 45)\n",
    "phivals = [phi(x, alpha, beta, r_star) for x in distvals]\n",
    "\n",
    "\n",
    "hist, bin_edges = np.histogram(100*np.array(distarr), bins = distvals)\n",
    "plt.plot(bin_edges[:-1], hist)\n",
    "plt.plot(bin_edges[:-1], np.array(phivals[:-1]))\n",
    "plt.xscale('log')\n",
    "plt.ylim(0, 0.01)"
   ]
  },
  {
   "cell_type": "code",
   "execution_count": 96,
   "metadata": {},
   "outputs": [
    {
     "data": {
      "image/png": "[encoded data removed]",
      "text/plain": [
       "<Figure size 432x288 with 1 Axes>"
      ]
     },
     "metadata": {
      "needs_background": "light"
     },
     "output_type": "display_data"
    }
   ],
   "source": [
    "n1 = \n",
    "\n",
    "#byphivals = [1/x for x in phivals]\n",
    "plt.plot(distvals, phivals)\n",
    "plt.xscale('log')\n",
    "plt.show()"
   ]
  },
  {
   "cell_type": "code",
   "execution_count": 116,
   "metadata": {},
   "outputs": [
    {
     "ename": "TypeError",
     "evalue": "'<' not supported between instances of 'list' and 'int'",
     "output_type": "error",
     "traceback": [
      "\u001b[0;31m---------------------------------------------------------------------------\u001b[0m",
      "\u001b[0;31mTypeError\u001b[0m                                 Traceback (most recent call last)",
      "\u001b[0;32m<ipython-input-116-de7d0a6d0e85>\u001b[0m in \u001b[0;36m<module>\u001b[0;34m\u001b[0m\n\u001b[0;32m----> 1\u001b[0;31m \u001b[0mdistarr\u001b[0m \u001b[0;34m<\u001b[0m \u001b[0mr_s\u001b[0m\u001b[0;34m\u001b[0m\u001b[0;34m\u001b[0m\u001b[0m\n\u001b[0m",
      "\u001b[0;31mTypeError\u001b[0m: '<' not supported between instances of 'list' and 'int'"
     ]
    }
   ],
   "source": [
    "for i in range(len(distarr)):\n",
    "    if distarr[i] < r_s"
   ]
  },
  {
   "cell_type": "code",
   "execution_count": 167,
   "metadata": {},
   "outputs": [
    {
     "data": {
      "text/plain": [
       "0.0"
      ]
     },
     "execution_count": 167,
     "metadata": {},
     "output_type": "execute_result"
    }
   ],
   "source": [
    "'''nintbin = 10\n",
    "intdistarr = []\n",
    "for i in range(len(distvals) - 1):\n",
    "    intdistarr.extend(np.linspace(distvals[i], distvals[i+1], nintbin))\n",
    "lumintdist = [4*np.pi*intdistarr[i]**2 * freq * f60[i] for i in range(len(distarr))]\n",
    "    \n",
    "densityvals = []\n",
    "i, k = 0, 0\n",
    "while i < len(distvals):\n",
    "    for j in range(nintbin):\n",
    "        densityvals[k] += PHI()'''"
   ]
  },
  {
   "cell_type": "code",
   "execution_count": 192,
   "metadata": {},
   "outputs": [
    {
     "data": {
      "text/plain": [
       "array([0.5, 0.5])"
      ]
     },
     "execution_count": 192,
     "metadata": {},
     "output_type": "execute_result"
    }
   ],
   "source": [
    "np.array([1, 2])/np.array([2, 4])"
   ]
  },
  {
   "cell_type": "code",
   "execution_count": 201,
   "metadata": {},
   "outputs": [
    {
     "data": {
      "text/plain": [
       "(0, 20)"
      ]
     },
     "execution_count": 201,
     "metadata": {},
     "output_type": "execute_result"
    },
    {
     "data": {
      "image/png": "[encoded data removed]",
      "text/plain": [
       "<Figure size 432x288 with 1 Axes>"
      ]
     },
     "metadata": {
      "needs_background": "light"
     },
     "output_type": "display_data"
    }
   ],
   "source": [
    "#plt.plot(objf12, 'ro')\n",
    "#plt.plot(objf25, 'bo')\n",
    "plt.plot(np.array(objf12[:-1])/np.array(objf12[1:]), 'r+')\n",
    "plt.plot(np.array(objf25[:-1])/np.array(objf25[1:]), 'b+')\n",
    "plt.plot(np.array(objf60[:-1])/np.array(objf60[1:]), 'g+')\n",
    "plt.plot(np.array(objf100[:-1])/np.array(objf100[1:]), 'y+')\n",
    "#plt.plot(objf100, 'go')\n",
    "plt.ylim(0, 10)\n",
    "plt.xlim(0, 20)"
   ]
  },
  {
   "cell_type": "code",
   "execution_count": 73,
   "metadata": {},
   "outputs": [
    {
     "data": {
      "text/plain": [
       "0.003216231249070716"
      ]
     },
     "execution_count": 73,
     "metadata": {},
     "output_type": "execute_result"
    }
   ],
   "source": [
    "random.normalvariate(0, 0.01)"
   ]
  },
  {
   "cell_type": "code",
   "execution_count": 90,
   "metadata": {},
   "outputs": [
    {
     "ename": "TypeError",
     "evalue": "integer argument expected, got float",
     "output_type": "error",
     "traceback": [
      "\u001b[0;31m---------------------------------------------------------------------------\u001b[0m",
      "\u001b[0;31mTypeError\u001b[0m                                 Traceback (most recent call last)",
      "\u001b[0;32m<ipython-input-90-d65209490c4c>\u001b[0m in \u001b[0;36m<module>\u001b[0;34m\u001b[0m\n\u001b[0;32m----> 1\u001b[0;31m \u001b[0marray\u001b[0m\u001b[0;34m.\u001b[0m\u001b[0marray\u001b[0m\u001b[0;34m(\u001b[0m\u001b[0;34m'i'\u001b[0m\u001b[0;34m,\u001b[0m \u001b[0;34m[\u001b[0m\u001b[0;36m1.\u001b[0m\u001b[0;34m,\u001b[0m \u001b[0;36m2\u001b[0m\u001b[0;34m,\u001b[0m \u001b[0;36m3\u001b[0m\u001b[0;34m]\u001b[0m\u001b[0;34m)\u001b[0m\u001b[0;34m\u001b[0m\u001b[0;34m\u001b[0m\u001b[0m\n\u001b[0m",
      "\u001b[0;31mTypeError\u001b[0m: integer argument expected, got float"
     ]
    }
   ],
   "source": [
    "array.array('', [1., 2, 3])"
   ]
  },
  {
   "cell_type": "code",
   "execution_count": 12,
   "metadata": {},
   "outputs": [
    {
     "data": {
      "text/plain": [
       "172"
      ]
     },
     "execution_count": 12,
     "metadata": {},
     "output_type": "execute_result"
    }
   ],
   "source": [
    "less = 0\n",
    "for i in range(len(f60)):\n",
    "    if np.log10(12) > f60[i]: less += 1\n",
    "less"
   ]
  },
  {
   "cell_type": "code",
   "execution_count": 13,
   "metadata": {},
   "outputs": [
    {
     "data": {
      "text/plain": [
       "3547"
      ]
     },
     "execution_count": 13,
     "metadata": {},
     "output_type": "execute_result"
    }
   ],
   "source": [
    "len(f60)"
   ]
  },
  {
   "cell_type": "code",
   "execution_count": 27,
   "metadata": {},
   "outputs": [
    {
     "name": "stderr",
     "output_type": "stream",
     "text": [
      "/home/pallav/.local/lib/python3.6/site-packages/ipykernel_launcher.py:1: RuntimeWarning: divide by zero encountered in log\n",
      "  \"\"\"Entry point for launching an IPython kernel.\n"
     ]
    },
    {
     "data": {
      "text/plain": [
       "-inf"
      ]
     },
     "execution_count": 27,
     "metadata": {},
     "output_type": "execute_result"
    }
   ],
   "source": []
  },
  {
   "cell_type": "code",
   "execution_count": 50,
   "metadata": {},
   "outputs": [
    {
     "data": {
      "text/plain": [
       "False"
      ]
     },
     "execution_count": 50,
     "metadata": {},
     "output_type": "execute_result"
    }
   ],
   "source": []
  },
  {
   "cell_type": "code",
   "execution_count": null,
   "metadata": {},
   "outputs": [],
   "source": []
  }
 ],
 "metadata": {
  "kernelspec": {
   "display_name": "Python 3",
   "language": "python",
   "name": "python3"
  },
  "language_info": {
   "codemirror_mode": {
    "name": "ipython",
    "version": 3
   },
   "file_extension": ".py",
   "mimetype": "text/x-python",
   "name": "python",
   "nbconvert_exporter": "python",
   "pygments_lexer": "ipython3",
   "version": "3.6.9"
  }
 },
 "nbformat": 4,
 "nbformat_minor": 2
}
