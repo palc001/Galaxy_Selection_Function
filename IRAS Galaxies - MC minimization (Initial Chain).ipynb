{
 "cells": [
  {
   "cell_type": "code",
   "execution_count": 118,
   "metadata": {},
   "outputs": [
    {
     "name": "stdout",
     "output_type": "stream",
     "text": [
      "Freq: 5000000000000.0 \n",
      "r_s: 5 \n",
      "Flux Limit: 1.0791812460476249\n",
      "Luminosity cut-off (L_s): 1695173937237548.8 \n",
      "R_max: 80\n"
     ]
    }
   ],
   "source": [
    "import pandas as pd\n",
    "import numpy as np\n",
    "import random\n",
    "from math import sqrt\n",
    "from math import e\n",
    "from math import log\n",
    "import matplotlib.pyplot as plt\n",
    "import array\n",
    "import time\n",
    "\n",
    "'''IMP:\n",
    "Units: h * dist - km/s\n",
    "       h = 100 km/(s*Mpc)'''\n",
    "\n",
    "pi = np.pi\n",
    "freq = 5 * 1e12 #Hz. Freq of 60um band\n",
    "r_s = 5 #in Mpc r_s/h\n",
    "fm = np.log10(12) #log_10 of 1.2Jy in 0.1 Jy. Flux limit of the sample\n",
    "L_s = 4*pi*r_s**2 * freq * fm\n",
    "R_max = 80 #in Mpc\n",
    "print('Freq:', freq, '\\nr_s:', r_s, '\\nFlux Limit:', fm)\n",
    "print('Luminosity cut-off (L_s):', L_s, '\\nR_max:', R_max)\n",
    "\n",
    "data = pd.read_csv(\"Data/HEASARC/IRAS Galaxies_1.tsv\", delimiter = \"\\t\")"
   ]
  },
  {
   "cell_type": "code",
   "execution_count": 119,
   "metadata": {},
   "outputs": [
    {
     "name": "stdout",
     "output_type": "stream",
     "text": [
      "5667\n"
     ]
    }
   ],
   "source": [
    "'''Sorting Data to be used - Part 1'''\n",
    "\n",
    "objclass = data[\"class\"]\n",
    "objext = data[\"extend_flag\"]\n",
    "objredshift = data[\"helio_velocity\"]\n",
    "objf60qual = data[\"micron_flux_60_flag\"]\n",
    "objf12_1, objf25_1, objf100_1 = [], [], []\n",
    "objf60_1 = []\n",
    "\n",
    "#czarr_i = c * z units km/s\n",
    "czarr1, czarr = [], []\n",
    "for i in range(len(objclass)):\n",
    "    if (objclass[i] == \"GALAXY\" and objext[i] == 0 and objf60qual[i] == 2 or objf60qual[i] == 3):\n",
    "        if objredshift[i] == 0.0: continue\n",
    "        czarr1.append(float(objredshift[i]))\n",
    "        objf12_1.append(float(data[\"micron_flux_12\"][i]))\n",
    "        objf25_1.append(float(data[\"micron_flux_25\"][i]))\n",
    "        objf60_1.append(float(data[\"micron_flux_60\"][i]))\n",
    "        objf100_1.append(float(data[\"micron_flux_100\"][i]))\n",
    "\n",
    "objf12, objf25, objf100 = [], [], []\n",
    "objf60 = []\n",
    "for i in range(len(czarr1)):\n",
    "    if (float(czarr1[i]) >= 0.0 and str(czarr1[i]) != 'nan'):\n",
    "        czarr.append(czarr1[i]) #final zarr to be used\n",
    "        objf12.append(objf12_1[i])\n",
    "        objf25.append(objf25_1[i])\n",
    "        objf60.append(objf60_1[i])\n",
    "        objf100.append(objf100_1[i])\n",
    "        \n",
    "c = 299792458 #m/s Speed of light\n",
    "\n",
    "zarr = [float(1e3*x/c) for x in czarr] #redshift array\n",
    "print(len(zarr))"
   ]
  },
  {
   "cell_type": "code",
   "execution_count": 120,
   "metadata": {},
   "outputs": [
    {
     "name": "stdout",
     "output_type": "stream",
     "text": [
      "5667\n"
     ]
    }
   ],
   "source": [
    "'''Comoving distance from redshift, Chi(z)'''\n",
    "\n",
    "H0 = 100.\n",
    "OM_m, OM_r, OM_de, OM_k = 0.28, 8.24e-5, 0.72, 0\n",
    "\n",
    "def H(z):\n",
    "    Hz = H0 * (1+z) * sqrt(OM_m*(1+z) + OM_r*(1+z)**2. + OM_de/(1+z)**2. + OM_k)\n",
    "    return Hz\n",
    "\n",
    "def dist(z1_, z2_):\n",
    "    n = 1000\n",
    "    ztemp = np.empty(n+1)\n",
    "    h = (z2_ - z1_)/float(n)\n",
    "    ztemp[0] = z1_\n",
    "    f_even, f_odd = 0., 0.\n",
    "    for i in range(1, n+1):\n",
    "        ztemp[i] = z1_ + float(i) * h\n",
    "    for i in range(1, int(n/2)):\n",
    "        zz = ztemp[2*i]\n",
    "        f_even = f_even + (1. / H(zz))\n",
    "    for i in range(1, int(n/2)+1):\n",
    "        zz = ztemp[2*i-1]\n",
    "        f_odd = f_odd + (1. / H(zz))\n",
    "    fz1 = (1. / H(z1_))\n",
    "    fz2 = (1. / H(z2_))\n",
    "    integral = h/3. * c / 1e3 * (fz1 + 2.*f_even + 4.*f_odd + fz2)\n",
    "    return integral\n",
    "\n",
    "#Comoving distance array\n",
    "distarr = [float(dist(0., x)) for x in zarr] #values in Mpc\n",
    "print(len(distarr))"
   ]
  },
  {
   "cell_type": "code",
   "execution_count": 121,
   "metadata": {},
   "outputs": [
    {
     "name": "stdout",
     "output_type": "stream",
     "text": [
      "3375\n"
     ]
    }
   ],
   "source": [
    "'''Sorting Data to be used - Part 2'''\n",
    "\n",
    "#subset distances in [r_s, R_max] for use in fitting\n",
    "darr1, obj1f60 = [], []\n",
    "for i in range(len(distarr)):\n",
    "    if (distarr[i] >= r_s and distarr[i] <= R_max and objf60[i] >= fm):\n",
    "        darr1.append(distarr[i])\n",
    "        obj1f60.append(objf60[i])\n",
    "print(len(darr1))"
   ]
  },
  {
   "cell_type": "code",
   "execution_count": 122,
   "metadata": {},
   "outputs": [
    {
     "data": {
      "image/png": "[encoded data removed]",
      "text/plain": [
       "<Figure size 432x288 with 1 Axes>"
      ]
     },
     "metadata": {
      "needs_background": "light"
     },
     "output_type": "display_data"
    }
   ],
   "source": [
    "fig = plt.figure()\n",
    "ax1 = fig.add_subplot(111)\n",
    "ax1.hist(100*np.array(darr1), bins=np.logspace(np.log10(1e2),np.log10(1e5), 45), histtype = 'step')\n",
    "#ax1.plot(distvals, phivals)\n",
    "ax1.set_xscale('log')\n",
    "#ax1.set_ylim(0, 20)\n",
    "#ax1.set_xlim(0, 1000)\n",
    "plt.show()"
   ]
  },
  {
   "cell_type": "code",
   "execution_count": 130,
   "metadata": {},
   "outputs": [
    {
     "name": "stdout",
     "output_type": "stream",
     "text": [
      "3375\n"
     ]
    }
   ],
   "source": [
    "darr2 = np.array(darr1)\n",
    "print(len(darr2))\n",
    "f60 = np.array(obj1f60) #in log_10 of flux in 0.1 Jy.\n",
    "\n",
    "#in Jy\n",
    "#f60 = 0.1*10**np.array(obj1f60) #in Jy\n",
    "#fm = 1.2 #in Jy\n",
    "#L_s = 4*pi*r_s**2 * freq * fm\n",
    "\n",
    "'''#Remove inf\n",
    "locinf = np.where(f60 >= 100)\n",
    "print(locinf)\n",
    "for i in range(len(locinf)):\n",
    "    darr2 = np.delete(darr1, locinf[i])\n",
    "    f60 = np.delete(f60, locinf[i])\n",
    "print(len(darr2), len(f60))\n",
    "print(np.where(f60 >= 100))'''\n",
    "\n",
    "#Luminosities\n",
    "lumino = 4*pi*darr2**2 * freq * f60\n",
    "\n",
    "#Yet to convert to numpy arrays\n",
    "def phi(r, alpha, beta, r_star): #Galaxy Selection function\n",
    "    A = r_s**(2*alpha) * (1 + (r_s**2./r_star**2.))**beta\n",
    "    return A * r**(-2*alpha) * (1 + (r**2./r_star**2.))**-beta\n",
    "#------------------------------\n",
    "\n",
    "def PSI(L_arr, alpha, beta, r_star): #Cumulative Luminosity function\n",
    "    L_star = 4*pi*r_star**2. * freq * fm\n",
    "    C = 1 #\n",
    "    return C * (L_arr/L_star)**-alpha * (1 + L_arr/L_star)**-beta\n",
    "\n",
    "def PHI(L_arr, alpha, beta, r_star): #Luminosity function\n",
    "    L_star = 4*pi*r_star**2. * freq * fm\n",
    "    return (alpha/L_arr + beta/(L_star + L_arr)) * PSI(L_arr, alpha, beta, r_star)\n",
    "\n",
    "def probf(r_arr, L_arr, alpha, beta, r_star): #Probability function \"f(Li|ri)\"\n",
    "    size = len(r_arr)\n",
    "    Lm = np.maximum(L_s, 4*pi*r_arr**2 * freq * fm)\n",
    "    return_array = (L_arr >= Lm) * PHI(L_arr, alpha, beta, r_star) / PSI(Lm, alpha, beta, r_star)\n",
    "    return return_array\n",
    "    \n",
    "#Likelihood function\n",
    "#returns a POSITIVE value (COST that the algorithm pays at the given vales of parameters)\n",
    "def lhdfunc(params):\n",
    "    alpha, beta, r_star = params[0], params[1], params[2]\n",
    "    f = probf(darr2, lumino, alpha, beta, r_star)\n",
    "    value = np.sum(np.log(f))\n",
    "    #print('COST:', -2 * value)\n",
    "    return -2 * value"
   ]
  },
  {
   "cell_type": "code",
   "execution_count": 131,
   "metadata": {},
   "outputs": [
    {
     "name": "stdout",
     "output_type": "stream",
     "text": [
      "Initial COST: 274553.73985877086\n",
      "\n",
      "MCMC Begins!!!\n",
      "\n",
      "Iter: 10 K, \tcurrent acc_ratio = 0.246\n",
      "274517.79631715716\n",
      "Iter: 20 K, \tcurrent acc_ratio = 0.250\n",
      "274519.45100345626\n",
      "Iter: 30 K, \tcurrent acc_ratio = 0.249\n",
      "274520.0073111019\n",
      "Iter: 40 K, \tcurrent acc_ratio = 0.249\n",
      "274518.13488612795\n",
      "Iter: 50 K, \tcurrent acc_ratio = 0.249\n",
      "274518.9697556461\n",
      "Iter: 60 K, \tcurrent acc_ratio = 0.249\n",
      "274518.19055390765\n",
      "Iter: 70 K, \tcurrent acc_ratio = 0.249\n",
      "274517.6070696326\n",
      "Iter: 80 K, \tcurrent acc_ratio = 0.250\n",
      "274518.01411163935\n",
      "Iter: 90 K, \tcurrent acc_ratio = 0.249\n",
      "274518.1581920065\n",
      "Iter: 100 K, \tcurrent acc_ratio = 0.249\n",
      "274517.3218967569\n",
      "Iter: 110 K, \tcurrent acc_ratio = 0.249\n",
      "274518.41399428784\n",
      "Iter: 120 K, \tcurrent acc_ratio = 0.250\n",
      "274519.37118579756\n",
      "Iter: 130 K, \tcurrent acc_ratio = 0.250\n",
      "274518.3037977166\n",
      "Iter: 140 K, \tcurrent acc_ratio = 0.250\n",
      "274518.42999602435\n",
      "Iter: 150 K, \tcurrent acc_ratio = 0.250\n",
      "274517.6238311324\n",
      "Iter: 160 K, \tcurrent acc_ratio = 0.250\n",
      "274517.79244681704\n",
      "Iter: 170 K, \tcurrent acc_ratio = 0.250\n",
      "274517.2216934425\n",
      "Iter: 180 K, \tcurrent acc_ratio = 0.250\n",
      "274519.993144558\n",
      "Iter: 190 K, \tcurrent acc_ratio = 0.250\n",
      "274517.5064350371\n",
      "Iter: 200 K, \tcurrent acc_ratio = 0.250\n",
      "274518.2954335694\n",
      "Iter: 210 K, \tcurrent acc_ratio = 0.250\n",
      "274518.6993334305\n",
      "Iter: 220 K, \tcurrent acc_ratio = 0.250\n",
      "274517.06662887963\n",
      "Iter: 230 K, \tcurrent acc_ratio = 0.250\n",
      "274519.7975392179\n",
      "Iter: 240 K, \tcurrent acc_ratio = 0.250\n",
      "274517.47874754434\n",
      "Iter: 250 K, \tcurrent acc_ratio = 0.250\n",
      "274517.8030612482\n",
      "Iter: 260 K, \tcurrent acc_ratio = 0.250\n",
      "274517.85175329255\n",
      "Iter: 270 K, \tcurrent acc_ratio = 0.250\n",
      "274518.0259630111\n",
      "Iter: 280 K, \tcurrent acc_ratio = 0.250\n",
      "274521.81028937106\n",
      "Iter: 290 K, \tcurrent acc_ratio = 0.250\n",
      "274519.3432348279\n",
      "Iter: 300 K, \tcurrent acc_ratio = 0.250\n",
      "274518.0616314747\n",
      "Iter: 310 K, \tcurrent acc_ratio = 0.250\n",
      "274517.8137069222\n",
      "Iter: 320 K, \tcurrent acc_ratio = 0.250\n",
      "274518.13874346507\n",
      "Iter: 330 K, \tcurrent acc_ratio = 0.250\n",
      "274517.17550885136\n",
      "Iter: 340 K, \tcurrent acc_ratio = 0.250\n",
      "274517.9362174822\n",
      "Iter: 350 K, \tcurrent acc_ratio = 0.250\n",
      "274517.1521061637\n",
      "Iter: 360 K, \tcurrent acc_ratio = 0.250\n",
      "274519.59546106716\n",
      "Iter: 370 K, \tcurrent acc_ratio = 0.250\n",
      "274517.0759761582\n",
      "Iter: 380 K, \tcurrent acc_ratio = 0.250\n",
      "274518.27280735254\n",
      "Iter: 390 K, \tcurrent acc_ratio = 0.250\n",
      "274518.026598988\n",
      "Iter: 400 K, \tcurrent acc_ratio = 0.250\n",
      "274519.70185189456\n",
      "Iter: 410 K, \tcurrent acc_ratio = 0.250\n",
      "274520.32171288365\n",
      "Iter: 420 K, \tcurrent acc_ratio = 0.250\n",
      "274517.257146621\n",
      "Iter: 430 K, \tcurrent acc_ratio = 0.250\n",
      "274518.13503622694\n",
      "Iter: 440 K, \tcurrent acc_ratio = 0.250\n",
      "274518.04507898947\n",
      "Iter: 450 K, \tcurrent acc_ratio = 0.250\n",
      "274519.1224243697\n",
      "Iter: 460 K, \tcurrent acc_ratio = 0.250\n",
      "274518.1060700296\n",
      "Iter: 470 K, \tcurrent acc_ratio = 0.249\n",
      "274520.726048328\n",
      "Iter: 480 K, \tcurrent acc_ratio = 0.250\n",
      "274518.77917940676\n",
      "Iter: 490 K, \tcurrent acc_ratio = 0.250\n",
      "274520.7659694586\n",
      "Iter: 500 K, \tcurrent acc_ratio = 0.249\n",
      "274518.54133386514\n",
      "Iter: 510 K, \tcurrent acc_ratio = 0.250\n",
      "274517.2980966563\n",
      "Iter: 520 K, \tcurrent acc_ratio = 0.250\n",
      "274520.66325284063\n",
      "Iter: 530 K, \tcurrent acc_ratio = 0.250\n",
      "274520.6469869156\n",
      "Iter: 540 K, \tcurrent acc_ratio = 0.249\n",
      "274518.58590901486\n",
      "Iter: 550 K, \tcurrent acc_ratio = 0.250\n",
      "274519.55312513234\n",
      "Iter: 560 K, \tcurrent acc_ratio = 0.250\n",
      "274519.2723467462\n",
      "Iter: 570 K, \tcurrent acc_ratio = 0.250\n",
      "274518.1572370318\n",
      "Iter: 580 K, \tcurrent acc_ratio = 0.250\n",
      "274519.8726558742\n",
      "Iter: 590 K, \tcurrent acc_ratio = 0.250\n",
      "274525.59128233104\n",
      "Iter: 600 K, \tcurrent acc_ratio = 0.250\n",
      "274518.77033685194\n",
      "Iter: 610 K, \tcurrent acc_ratio = 0.250\n",
      "274517.15439662675\n",
      "Iter: 620 K, \tcurrent acc_ratio = 0.250\n",
      "274518.864089522\n",
      "Iter: 630 K, \tcurrent acc_ratio = 0.250\n",
      "274517.06677503075\n",
      "Iter: 640 K, \tcurrent acc_ratio = 0.250\n",
      "274517.88101240783\n",
      "Iter: 650 K, \tcurrent acc_ratio = 0.250\n",
      "274517.9648730956\n",
      "Iter: 660 K, \tcurrent acc_ratio = 0.250\n",
      "274519.3654492581\n",
      "Iter: 670 K, \tcurrent acc_ratio = 0.250\n",
      "274517.5464956207\n",
      "Iter: 680 K, \tcurrent acc_ratio = 0.250\n",
      "274518.7667341579\n",
      "Iter: 690 K, \tcurrent acc_ratio = 0.250\n",
      "274518.4854002136\n",
      "Iter: 700 K, \tcurrent acc_ratio = 0.250\n",
      "274517.91694551276\n",
      "Iter: 710 K, \tcurrent acc_ratio = 0.250\n",
      "274517.90707717754\n",
      "Iter: 720 K, \tcurrent acc_ratio = 0.250\n",
      "274518.24023391283\n",
      "Iter: 730 K, \tcurrent acc_ratio = 0.250\n",
      "274517.3052634238\n",
      "Iter: 740 K, \tcurrent acc_ratio = 0.250\n",
      "274518.60178213276\n",
      "Iter: 750 K, \tcurrent acc_ratio = 0.250\n",
      "274517.3014426552\n",
      "Iter: 760 K, \tcurrent acc_ratio = 0.250\n",
      "274520.05731270794\n",
      "Iter: 770 K, \tcurrent acc_ratio = 0.250\n",
      "274520.31651549117\n",
      "Iter: 780 K, \tcurrent acc_ratio = 0.250\n",
      "274520.0561334336\n",
      "Iter: 790 K, \tcurrent acc_ratio = 0.250\n",
      "274518.59970750776\n",
      "Iter: 800 K, \tcurrent acc_ratio = 0.250\n",
      "274517.76071211125\n",
      "Iter: 810 K, \tcurrent acc_ratio = 0.250\n",
      "274518.4272131688\n",
      "Iter: 820 K, \tcurrent acc_ratio = 0.250\n",
      "274522.3056907075\n",
      "Iter: 830 K, \tcurrent acc_ratio = 0.250\n",
      "274517.17725430126\n",
      "Iter: 840 K, \tcurrent acc_ratio = 0.250\n",
      "274519.55451585335\n",
      "Iter: 850 K, \tcurrent acc_ratio = 0.250\n",
      "274520.14424948057\n",
      "Iter: 860 K, \tcurrent acc_ratio = 0.250\n",
      "274517.94137681334\n",
      "Iter: 870 K, \tcurrent acc_ratio = 0.250\n",
      "274517.18925441796\n",
      "Iter: 880 K, \tcurrent acc_ratio = 0.250\n",
      "274519.0117712564\n",
      "Iter: 890 K, \tcurrent acc_ratio = 0.250\n",
      "274517.8909358935\n",
      "Iter: 900 K, \tcurrent acc_ratio = 0.250\n",
      "274518.6402773751\n",
      "Iter: 910 K, \tcurrent acc_ratio = 0.250\n",
      "274520.1892892334\n",
      "Iter: 920 K, \tcurrent acc_ratio = 0.250\n",
      "274517.3461457264\n",
      "Iter: 930 K, \tcurrent acc_ratio = 0.250\n",
      "274519.059886751\n",
      "Iter: 940 K, \tcurrent acc_ratio = 0.250\n",
      "274517.2634226581\n",
      "Iter: 950 K, \tcurrent acc_ratio = 0.250\n",
      "274517.81839601713\n",
      "Iter: 960 K, \tcurrent acc_ratio = 0.250\n",
      "274517.34049204347\n",
      "Iter: 970 K, \tcurrent acc_ratio = 0.250\n",
      "274521.5666924655\n",
      "Iter: 980 K, \tcurrent acc_ratio = 0.250\n",
      "274518.26371439174\n",
      "Iter: 990 K, \tcurrent acc_ratio = 0.250\n",
      "274517.01463316276\n",
      "Iter: 1000 K, \tcurrent acc_ratio = 0.250\n",
      "274518.38557234115\n",
      "\n",
      "Number of accepted values: 249841\n",
      "Acceptance ratio is 0.249841\n",
      "\n",
      "COST at the end: 274518.38557234115\n",
      "\n",
      "Time = 1511.46 seconds\n"
     ]
    }
   ],
   "source": [
    "####---- Monte-Carlo Minimization ----####\n",
    "\n",
    "niter = 1e6\n",
    "i, k = 0, 0\n",
    "random.seed(0)\n",
    "\n",
    "alpha, beta, r_star = 0.3, 1.4, 38 #initial guess\n",
    "#alpha, beta, r_star = 0.1, 0.1, 10 #initial guess\n",
    "ini_alpha, ini_beta, ini_r_star = alpha, beta, r_star\n",
    "'''actual values are:\n",
    "alpha = 0.527, beta = 1.78, r_star = 44'''\n",
    "\n",
    "acc_alphas, acc_betas, acc_r_stars = np.empty(0), np.empty(0), np.empty(0) #arrays to store all accepted parameter values\n",
    "costarr = np.empty(0) #array to store cost (from likelihood func) at all accepted values\n",
    "\n",
    "f_old = lhdfunc(array.array('f', [alpha, beta, r_star])) #OLD COST (from likelihood func)\n",
    "print('Initial COST:', f_old)\n",
    "\n",
    "print('\\nMCMC Begins!!!\\n')\n",
    "\n",
    "start = time.perf_counter()\n",
    "\n",
    "while i < int(niter):\n",
    "    inc_alpha, inc_beta, inc_r_star = random.normalvariate(0, 0.05), \\\n",
    "    random.normalvariate(0, 0.05), random.normalvariate(0, 0.5) #random increments to parameters (from a normal distribution)\n",
    "    \n",
    "    guess = array.array('f', [alpha + inc_alpha, beta + inc_beta, r_star + inc_r_star]) #new parameters\n",
    "    f_new = lhdfunc(guess) #NEW COST (from likelihood func)\n",
    "    \n",
    "    #print('f_old =', f_old, 'f_new =', f_new)\n",
    "    #f_ratio = e**(-f_new) / e**(-f_old) #\"Gives wrong value due to large power of e\"\n",
    "    #print('f_ratio =', f_ratio)\n",
    "    \n",
    "    differ_f = f_new - f_old #Using difference method as above commented code doesn't work\n",
    "    \n",
    "    #if (f_ratio >= 1): #Accept if f_ratio >= 1\n",
    "    if differ_f <= 0: #\"OR\" Accept if differ_f <= 0\n",
    "        alpha, beta, r_star = alpha + inc_alpha, beta + inc_beta, r_star + inc_r_star #Accept the parameters\n",
    "        acc_alphas = np.insert(acc_alphas, k, alpha)\n",
    "        acc_betas = np.insert(acc_betas, k, beta)\n",
    "        acc_r_stars = np.insert(acc_r_stars, k, r_star)\n",
    "        costarr = np.insert(costarr, k, f_new)\n",
    "        f_old = f_new #Set new COST as old COST for next iteration\n",
    "        k += 1\n",
    "        #print('Accepted')\n",
    "    \n",
    "    else: #Accept if uniform random number(u) <= f_ratio\n",
    "        #\"OR\" Accept if u <= e**(-differ_f)\n",
    "        u = random.uniform(0, 1)\n",
    "        #if (u <= f_ratio):\n",
    "        if (u <= e**(-differ_f)):\n",
    "            alpha, beta, r_star = alpha + inc_alpha, beta + inc_beta, r_star + inc_r_star #Accept the parameters\n",
    "            acc_alphas = np.insert(acc_alphas, k, alpha)\n",
    "            acc_betas = np.insert(acc_betas, k, beta)\n",
    "            acc_r_stars = np.insert(acc_r_stars, k, r_star)\n",
    "            costarr = np.insert(costarr, k, f_new)\n",
    "            f_old = f_new #Set new COST as old COST for next iteration\n",
    "            k += 1\n",
    "            #print('Accepted')\n",
    "        '''else:\n",
    "            acc_alphas.append(alpha)\n",
    "            acc_betas.append(beta)\n",
    "            acc_r_stars.append(r_star)\n",
    "            costarr.append(f_old)\n",
    "            #print('Rejected')'''\n",
    "    \n",
    "    i += 1\n",
    "    if (i % 1e4 == 0):\n",
    "        print('Iter: %d K, \\tcurrent acc_ratio = %.3f' % (i/1e3, k/i))\n",
    "        print(f_old)\n",
    "\n",
    "seconds = time.perf_counter() - start\n",
    "\n",
    "accratio = k/niter\n",
    "print(\"\\nNumber of accepted values:\", k)\n",
    "print(\"Acceptance ratio is\", accratio)\n",
    "\n",
    "print(\"\\nCOST at the end:\", lhdfunc(array.array('f', [alpha, beta, r_star])))\n",
    "\n",
    "print(\"\\nTime = %.2f seconds\" % seconds)\n",
    "\n",
    "#Redundant code\n",
    "#guess = np.array([0.5, 1.7, 4400])\n",
    "#results = minimize(lhdfunc, guess, options={'disp': True})"
   ]
  },
  {
   "cell_type": "code",
   "execution_count": 132,
   "metadata": {},
   "outputs": [
    {
     "data": {
      "image/png": "[encoded data removed]",
      "text/plain": [
       "<Figure size 864x432 with 4 Axes>"
      ]
     },
     "metadata": {
      "needs_background": "light"
     },
     "output_type": "display_data"
    }
   ],
   "source": [
    "limit = k\n",
    "\n",
    "figure = plt.figure(figsize = (12, 6))\n",
    "\n",
    "ax1 = figure.add_subplot(221)\n",
    "ax1.plot(costarr[:limit])\n",
    "ax1.set_title('COST')\n",
    "\n",
    "ax2 = figure.add_subplot(222)\n",
    "ax2.plot(acc_alphas[:limit])\n",
    "ax2.set_title('alpha')\n",
    "\n",
    "ax3 = figure.add_subplot(223)\n",
    "ax3.plot(acc_betas[:limit])\n",
    "ax3.set_title('beta')\n",
    "\n",
    "ax4 = figure.add_subplot(224)\n",
    "ax4.plot(acc_r_stars[:limit])\n",
    "ax4.set_title('r_star')\n",
    "\n",
    "plt.show()"
   ]
  },
  {
   "cell_type": "code",
   "execution_count": 133,
   "metadata": {},
   "outputs": [
    {
     "name": "stdout",
     "output_type": "stream",
     "text": [
      "alpha \t= 0.4640 +- 0.0294\n",
      "beta \t= 2.0477 +- 0.1321\n",
      "r_star \t= 71.3751 +- 5.8127\n"
     ]
    }
   ],
   "source": [
    "#Mean and Standard-deviation of Accepted Parameter Values\n",
    "\n",
    "burn_end = 1500\n",
    "mean_alpha, std_alpha = np.mean(acc_alphas[burn_end:limit]), np.std(acc_alphas[burn_end:limit])\n",
    "mean_beta, std_beta = np.mean(acc_betas[burn_end:limit]), np.std(acc_betas[burn_end:limit])\n",
    "mean_r_star, std_r_star = np.mean(acc_r_stars[burn_end:limit]), np.std(acc_r_stars[burn_end:limit])\n",
    "print('alpha \\t= %.4f +- %.4f' % (mean_alpha, std_alpha))\n",
    "print('beta \\t= %.4f +- %.4f' % (mean_beta, std_beta))\n",
    "print('r_star \\t= %.4f +- %.4f' % (mean_r_star, std_r_star))"
   ]
  },
  {
   "cell_type": "code",
   "execution_count": 134,
   "metadata": {},
   "outputs": [
    {
     "data": {
      "image/png": "[encoded data removed]",
      "text/plain": [
       "<Figure size 432x288 with 1 Axes>"
      ]
     },
     "metadata": {
      "needs_background": "light"
     },
     "output_type": "display_data"
    }
   ],
   "source": [
    "#Plot Selection Function\n",
    "\n",
    "#distvals = np.logspace(np.log10(1e2),np.log10(1e5), 45)\n",
    "distvals = np.arange(5, 100, 1)\n",
    "distvalsplot = np.arange(0, 10000, 100)\n",
    "\n",
    "alpha_val, beta_val, r_star_val = 0.527, 1.78, 44\n",
    "phivals_paper = [phi(x, alpha_val, beta_val, r_star_val) for x in distvals]\n",
    "phivals_paper = np.insert(phivals_paper, 0, [1, 1, 1, 1, 1])\n",
    "\n",
    "alpha_val, beta_val, r_star_val = 0.4576, 2.0152, 69.6566\n",
    "phivals_mine = [phi(x, alpha_val, beta_val, r_star_val) for x in distvals]\n",
    "phivals_mine = np.insert(phivals_mine, 0, [1, 1, 1, 1, 1])\n",
    "\n",
    "alpha_val, beta_val, r_star_val = mean_alpha, mean_beta, mean_r_star\n",
    "phivals_mine_1 = [phi(x, alpha_val, beta_val, r_star_val) for x in distvals]\n",
    "phivals_mine_1 = np.insert(phivals_mine_1, 0, [1, 1, 1, 1, 1])\n",
    "\n",
    "plt.plot(distvalsplot, phivals_paper, label = 'paper')\n",
    "plt.plot(distvalsplot, phivals_mine, label = 'ours')\n",
    "plt.plot(distvalsplot, phivals_mine_1, label = 'ours_1')\n",
    "plt.yscale('log')\n",
    "plt.legend()\n",
    "plt.title('Selection function')\n",
    "plt.xlabel('Distance (km/s)')\n",
    "plt.ylabel('phi(r)')\n",
    "plt.savefig('selection_fn_paper+ours')\n",
    "plt.show()"
   ]
  },
  {
   "cell_type": "code",
   "execution_count": 135,
   "metadata": {},
   "outputs": [
    {
     "name": "stdout",
     "output_type": "stream",
     "text": [
      "Okay! Saved!\n"
     ]
    }
   ],
   "source": [
    "#Save accepted parameter lists\n",
    "\n",
    "np.savez('New_MC_initialchain_IC_alpha_%.2f_beta_%.2f_rstar_%.2f_iter_%d.npz' % (ini_alpha, ini_beta, ini_r_star, niter),\n",
    "         burn = burn_end,\n",
    "         ini_alpha = ini_alpha,\n",
    "         ini_beta = ini_beta,\n",
    "         ini_r_star = ini_r_star,\n",
    "         mean_alpha = mean_alpha,\n",
    "         std_alpha = std_alpha,\n",
    "         mean_beta = mean_beta,\n",
    "         std_beta = std_beta,\n",
    "         mean_r_star = mean_r_star,\n",
    "         std_r_star = std_r_star,\n",
    "         alpha_arr = acc_alphas,\n",
    "         beta_arr = acc_betas,\n",
    "         r_star_arr = acc_r_stars,\n",
    "         acc_ratio = accratio\n",
    "        )\n",
    "print('Okay! Saved!')"
   ]
  },
  {
   "cell_type": "markdown",
   "metadata": {},
   "source": [
    "# REDUNDANT CODES START HERE!!!!!"
   ]
  },
  {
   "cell_type": "code",
   "execution_count": 98,
   "metadata": {},
   "outputs": [
    {
     "data": {
      "text/plain": [
       "(0, 0.01)"
      ]
     },
     "execution_count": 98,
     "metadata": {},
     "output_type": "execute_result"
    },
    {
     "data": {
      "image/png": "[encoded data removed]",
      "text/plain": [
       "<Figure size 432x288 with 1 Axes>"
      ]
     },
     "metadata": {
      "needs_background": "light"
     },
     "output_type": "display_data"
    }
   ],
   "source": [
    "distvals = np.logspace(np.log10(1e2),np.log10(1e5), 45)\n",
    "phivals = [phi(x, alpha, beta, r_star) for x in distvals]\n",
    "\n",
    "\n",
    "hist, bin_edges = np.histogram(100*np.array(distarr), bins = distvals)\n",
    "plt.plot(bin_edges[:-1], hist)\n",
    "plt.plot(bin_edges[:-1], np.array(phivals[:-1]))\n",
    "plt.xscale('log')\n",
    "plt.ylim(0, 0.01)"
   ]
  },
  {
   "cell_type": "code",
   "execution_count": 96,
   "metadata": {},
   "outputs": [
    {
     "data": {
      "image/png": "[encoded data removed]",
      "text/plain": [
       "<Figure size 432x288 with 1 Axes>"
      ]
     },
     "metadata": {
      "needs_background": "light"
     },
     "output_type": "display_data"
    }
   ],
   "source": [
    "n1 = \n",
    "\n",
    "#byphivals = [1/x for x in phivals]\n",
    "plt.plot(distvals, phivals)\n",
    "plt.xscale('log')\n",
    "plt.show()"
   ]
  },
  {
   "cell_type": "code",
   "execution_count": 116,
   "metadata": {},
   "outputs": [
    {
     "ename": "TypeError",
     "evalue": "'<' not supported between instances of 'list' and 'int'",
     "output_type": "error",
     "traceback": [
      "\u001b[0;31m---------------------------------------------------------------------------\u001b[0m",
      "\u001b[0;31mTypeError\u001b[0m                                 Traceback (most recent call last)",
      "\u001b[0;32m<ipython-input-116-de7d0a6d0e85>\u001b[0m in \u001b[0;36m<module>\u001b[0;34m\u001b[0m\n\u001b[0;32m----> 1\u001b[0;31m \u001b[0mdistarr\u001b[0m \u001b[0;34m<\u001b[0m \u001b[0mr_s\u001b[0m\u001b[0;34m\u001b[0m\u001b[0;34m\u001b[0m\u001b[0m\n\u001b[0m",
      "\u001b[0;31mTypeError\u001b[0m: '<' not supported between instances of 'list' and 'int'"
     ]
    }
   ],
   "source": [
    "for i in range(len(distarr)):\n",
    "    if distarr[i] < r_s"
   ]
  },
  {
   "cell_type": "code",
   "execution_count": 167,
   "metadata": {},
   "outputs": [
    {
     "data": {
      "text/plain": [
       "0.0"
      ]
     },
     "execution_count": 167,
     "metadata": {},
     "output_type": "execute_result"
    }
   ],
   "source": [
    "'''nintbin = 10\n",
    "intdistarr = []\n",
    "for i in range(len(distvals) - 1):\n",
    "    intdistarr.extend(np.linspace(distvals[i], distvals[i+1], nintbin))\n",
    "lumintdist = [4*np.pi*intdistarr[i]**2 * freq * f60[i] for i in range(len(distarr))]\n",
    "    \n",
    "densityvals = []\n",
    "i, k = 0, 0\n",
    "while i < len(distvals):\n",
    "    for j in range(nintbin):\n",
    "        densityvals[k] += PHI()'''"
   ]
  },
  {
   "cell_type": "code",
   "execution_count": 192,
   "metadata": {},
   "outputs": [
    {
     "data": {
      "text/plain": [
       "array([0.5, 0.5])"
      ]
     },
     "execution_count": 192,
     "metadata": {},
     "output_type": "execute_result"
    }
   ],
   "source": [
    "np.array([1, 2])/np.array([2, 4])"
   ]
  },
  {
   "cell_type": "code",
   "execution_count": 201,
   "metadata": {},
   "outputs": [
    {
     "data": {
      "text/plain": [
       "(0, 20)"
      ]
     },
     "execution_count": 201,
     "metadata": {},
     "output_type": "execute_result"
    },
    {
     "data": {
      "image/png": "[encoded data removed]",
      "text/plain": [
       "<Figure size 432x288 with 1 Axes>"
      ]
     },
     "metadata": {
      "needs_background": "light"
     },
     "output_type": "display_data"
    }
   ],
   "source": [
    "#plt.plot(objf12, 'ro')\n",
    "#plt.plot(objf25, 'bo')\n",
    "plt.plot(np.array(objf12[:-1])/np.array(objf12[1:]), 'r+')\n",
    "plt.plot(np.array(objf25[:-1])/np.array(objf25[1:]), 'b+')\n",
    "plt.plot(np.array(objf60[:-1])/np.array(objf60[1:]), 'g+')\n",
    "plt.plot(np.array(objf100[:-1])/np.array(objf100[1:]), 'y+')\n",
    "#plt.plot(objf100, 'go')\n",
    "plt.ylim(0, 10)\n",
    "plt.xlim(0, 20)"
   ]
  },
  {
   "cell_type": "code",
   "execution_count": 73,
   "metadata": {},
   "outputs": [
    {
     "data": {
      "text/plain": [
       "0.003216231249070716"
      ]
     },
     "execution_count": 73,
     "metadata": {},
     "output_type": "execute_result"
    }
   ],
   "source": [
    "random.normalvariate(0, 0.01)"
   ]
  },
  {
   "cell_type": "code",
   "execution_count": 90,
   "metadata": {},
   "outputs": [
    {
     "ename": "TypeError",
     "evalue": "integer argument expected, got float",
     "output_type": "error",
     "traceback": [
      "\u001b[0;31m---------------------------------------------------------------------------\u001b[0m",
      "\u001b[0;31mTypeError\u001b[0m                                 Traceback (most recent call last)",
      "\u001b[0;32m<ipython-input-90-d65209490c4c>\u001b[0m in \u001b[0;36m<module>\u001b[0;34m\u001b[0m\n\u001b[0;32m----> 1\u001b[0;31m \u001b[0marray\u001b[0m\u001b[0;34m.\u001b[0m\u001b[0marray\u001b[0m\u001b[0;34m(\u001b[0m\u001b[0;34m'i'\u001b[0m\u001b[0;34m,\u001b[0m \u001b[0;34m[\u001b[0m\u001b[0;36m1.\u001b[0m\u001b[0;34m,\u001b[0m \u001b[0;36m2\u001b[0m\u001b[0;34m,\u001b[0m \u001b[0;36m3\u001b[0m\u001b[0;34m]\u001b[0m\u001b[0;34m)\u001b[0m\u001b[0;34m\u001b[0m\u001b[0;34m\u001b[0m\u001b[0m\n\u001b[0m",
      "\u001b[0;31mTypeError\u001b[0m: integer argument expected, got float"
     ]
    }
   ],
   "source": [
    "array.array('', [1., 2, 3])"
   ]
  },
  {
   "cell_type": "code",
   "execution_count": 12,
   "metadata": {},
   "outputs": [
    {
     "data": {
      "text/plain": [
       "172"
      ]
     },
     "execution_count": 12,
     "metadata": {},
     "output_type": "execute_result"
    }
   ],
   "source": [
    "less = 0\n",
    "for i in range(len(f60)):\n",
    "    if np.log10(12) > f60[i]: less += 1\n",
    "less"
   ]
  },
  {
   "cell_type": "code",
   "execution_count": 13,
   "metadata": {},
   "outputs": [
    {
     "data": {
      "text/plain": [
       "3547"
      ]
     },
     "execution_count": 13,
     "metadata": {},
     "output_type": "execute_result"
    }
   ],
   "source": [
    "len(f60)"
   ]
  },
  {
   "cell_type": "code",
   "execution_count": 27,
   "metadata": {},
   "outputs": [
    {
     "name": "stderr",
     "output_type": "stream",
     "text": [
      "/home/pallav/.local/lib/python3.6/site-packages/ipykernel_launcher.py:1: RuntimeWarning: divide by zero encountered in log\n",
      "  \"\"\"Entry point for launching an IPython kernel.\n"
     ]
    },
    {
     "data": {
      "text/plain": [
       "-inf"
      ]
     },
     "execution_count": 27,
     "metadata": {},
     "output_type": "execute_result"
    }
   ],
   "source": []
  },
  {
   "cell_type": "code",
   "execution_count": 50,
   "metadata": {},
   "outputs": [
    {
     "data": {
      "text/plain": [
       "False"
      ]
     },
     "execution_count": 50,
     "metadata": {},
     "output_type": "execute_result"
    }
   ],
   "source": []
  },
  {
   "cell_type": "code",
   "execution_count": null,
   "metadata": {},
   "outputs": [],
   "source": []
  }
 ],
 "metadata": {
  "kernelspec": {
   "display_name": "Python 3",
   "language": "python",
   "name": "python3"
  },
  "language_info": {
   "codemirror_mode": {
    "name": "ipython",
    "version": 3
   },
   "file_extension": ".py",
   "mimetype": "text/x-python",
   "name": "python",
   "nbconvert_exporter": "python",
   "pygments_lexer": "ipython3",
   "version": "3.6.9"
  }
 },
 "nbformat": 4,
 "nbformat_minor": 2
}
